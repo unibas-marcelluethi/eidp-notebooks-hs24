{
 "cells": [
  {
   "cell_type": "markdown",
   "metadata": {},
   "source": [
    "# Übungsblatt 7: Dictionaries"
   ]
  },
  {
   "cell_type": "markdown",
   "metadata": {
    "deletable": false
   },
   "source": [
    "*Schreiben Sie in dieses Feld Ihren Vornamen, Namen und Matrikelnummer.*"
   ]
  },
  {
   "cell_type": "markdown",
   "metadata": {},
   "source": [
    "### Wichtige Hinweise\n",
    "\n",
    "* Das Schlüsselwort ```pass```, welches Sie in den Übungen finden, ist eine Python-Anweisung die nichts macht. Wir nutzen diese als Platzhalter, damit sich Python nicht über eine fehlende Implementation der Funktion beschwert. Ersetzen Sie die ```pass``` Anweisung einfach durch Ihre Implementation der Methode. \n",
    "* Sie dürfen keine externen Bibliotheken verwenden"
   ]
  },
  {
   "cell_type": "markdown",
   "metadata": {
    "deletable": false
   },
   "source": [
    "#### Uebung 1: Dictionaries aus Liste von Tupels (2 Punkte)\n",
    "\n",
    "Schreiben Sie eine Funktion ```dict_from_list_of_tuples```, welche eine Liste von Tupel als Argument erhält und ein Dictionary zurückgibt, \n",
    "bei dem jeweils der erste Tupeleintrag der Schlüssel und der zweite der entsprechende Wert ist. \n"
   ]
  },
  {
   "cell_type": "code",
   "execution_count": null,
   "metadata": {
    "deletable": false,
    "exercise_id": 1
   },
   "outputs": [],
   "source": [
    "def dict_from_list_of_tuples(list_of_tuples):\n",
    "    pass    # Bitte pass durch Ihre Implementation ersetzten\n",
    "\n",
    "# Dieser Aufruf sollte das Dictionary {\"key1\" : 1, \"key2\" : 2} zurückgeben\n",
    "dict_from_list_of_tuples([(\"key1\", 1), (\"key2\", 2)])\n"
   ]
  },
  {
   "cell_type": "markdown",
   "metadata": {},
   "source": [
    "#### Uebung 2: Wert suchen (2 Punkte)\n",
    "\n",
    "Implementieren Sie eine Funktion ```get_or_else```, welche ein Dictionary sowie einen Schlüssel und einen Wert als Argument enthält. Falls das Dictionary den Schlüssel enthält, soll der im Dictionary gespeicherte Wert zurückgeben werden. Falls nicht, soll der als drittes Argument übergebene Wert zurückgegeben werden. \n",
    "\n",
    "*Hinweis: Der Datentyp dictionariy in Python verfügt bereits über eine Methode ```get```, die genau diese Funktion zur Verfügung stellt. In dieser Aufgabe sollen Sie diese Funktion aber selber implementieren.*"
   ]
  },
  {
   "cell_type": "code",
   "execution_count": null,
   "metadata": {
    "deletable": false,
    "exercise_id": 2
   },
   "outputs": [],
   "source": [
    "def get_or_else(dict, key, value):\n",
    "    pass    # Bitte pass durch Ihre Implementation ersetzten\n",
    "\n",
    "# Beispiel dictionary\n",
    "dict = {\"key1\" : 1, \"key2\"  : 2}\n",
    "\n",
    "# Der folgende Aufruf sollte 1 zurückgeben\n",
    "get_or_else(dict, \"key1\", 7)\n",
    "\n",
    "\n",
    "# Der folgende Aufruf sollte 42 zurückgeben\n",
    "get_or_else(dict, \"key3\", 42)"
   ]
  },
  {
   "cell_type": "markdown",
   "metadata": {},
   "source": [
    "#### Uebung 3: Schlüssel zu Werten in Interval (2 Punkte)\n",
    "\n",
    "Wir können ein Dictionary verwenden um Namen von Personen (Schlüssel) und deren Alter (Wert) zu speichern. \n",
    "Implementieren Sie die Funktion ```persons_with_age```, welches so ein Dictionary entgegennimmt.  Die Funktion soll eine Liste aller Personen zurückgeben, deren Alter in dem \n",
    "durch die Argumente ```from_age``` und ```to_age``` definierten Intervall (inklusive der Intervalgrenzen) liegen."
   ]
  },
  {
   "cell_type": "code",
   "execution_count": null,
   "metadata": {
    "deletable": false,
    "exercise_id": 3
   },
   "outputs": [],
   "source": [
    "def persons_with_age(dict, from_age, to_age):\n",
    "    pass    # Bitte pass durch Ihre Implementation ersetzten\n",
    "\n",
    "# Beispiel dictionary\n",
    "dict = {\"Hans\" : 72, \"Anna\" : 23, \"Peter\" : 50, \"Leo\" : 7}\n",
    "\n",
    "# Der folgende Aufruf sollte die Liste [\"Anna\", \"Peter\"] zurückgeben\n",
    "persons_with_age(dict, 23, 52)\n",
    "\n"
   ]
  },
  {
   "cell_type": "markdown",
   "metadata": {},
   "source": [
    "#### Uebung 4: Zusammenfügen zweier Dictionaries (2 Punkte)\n",
    "\n",
    "Implementieren Sie die Funktion ```merge_dictionaries```, welche zwei Dictionaries entgegennnimmt und als Resultat ein neues Dictionary zurückgibt. Die beiden  übergebenen Dictionaries verwalten Personen (Schlüssel) und wieviele Artikel die Person jeweils bei uns gekauft hat (der Wert). Zurückgegeben wird ein Dictionary, welches alle Personen aus beiden Dictionaries und die totale Anzahl der gekauften Artikel enthält. "
   ]
  },
  {
   "cell_type": "code",
   "execution_count": null,
   "metadata": {
    "deletable": false,
    "exercise_id": 4
   },
   "outputs": [],
   "source": [
    "def merge_dictionaries(dict_1, dict_2):\n",
    "    pass\n",
    "    \n",
    "# Beispiel dictionaries\n",
    "d1 = {\"Peter\" : 1, \"Hans\" : 2, \"Anna\" : 3}\n",
    "d2 = {\"Anna\" : 1, \"Berta\" : 4, \"Peter\" : 2}\n",
    "\n",
    "# Der folgende Aufruf sollte das Dictionary {\"Peter\" : 3, \"Hans\" : 2, \"Anna\" : 4, \"Berta\" : 4} (in beliebiger Reihenfolge) zurückgeben\n",
    "merge_dictionaries(d1, d2)"
   ]
  },
  {
   "cell_type": "markdown",
   "metadata": {},
   "source": [
    "#### Uebung 5: Text ersetzen (2 Punkte)\n",
    "\n",
    "Implementieren Sie die Funktion ```replace_characters``` welche eine ein Dictionary sowie einen Text entgegennimmt. Im Dictionary stehen als Schlüssel und als Wert jeweils ein Buchstabe. Im Text soll jewils jeder Buchstabe, welcher im Dictionary als Schlüssel vorkommt mit dem entsprechenden Wert ersetzt werden. Die Funktion soll einen neuen Text zurückgeben, bei dem alle Zeichen entsprechend ersetzt sind. \n",
    "\n",
    "###### Beispiel:\n",
    "\n",
    "Gegeben sei folgendes Dictionary: ```deip = {\"a\":\"E\",\"u\":\"i\",\"z\":\"d\"}``` der Aufruf \n",
    "``` replace_characters(deip,\"auzP\")``` muss:\n",
    "\n",
    "- den Buchstaben a aus dem Text mit dem Wert E aus dem Dictionary ersetzen.\n",
    "- den Buchstaben u aus dem Text mit dem Wert i aus dem Dictionary ersetzen.\n",
    "- den Buchstaben z aus dem Text mit dem Wert d aus dem Dictrionary ersetzen. \n",
    "\n",
    "Am Schluss wird somit EidP zurückgegeben werden. \n"
   ]
  },
  {
   "cell_type": "code",
   "execution_count": null,
   "metadata": {
    "deletable": false,
    "exercise_id": 5
   },
   "outputs": [],
   "source": [
    "def replace_characters(dict, text):\n",
    "     pass\n",
    "    \n",
    "# der folgende Aufruf sollte python zurückgeben\n",
    "d = {\"k\" : \"p\", \"a\" : \"y\", \"r\" : \"t\", \"t\" : \"h\"}\n",
    "replace_characters(d, \"karton\")"
   ]
  }
 ],
 "metadata": {
  "celltoolbar": "Edit Metadata",
  "exercise_series": "eidp",
  "kernelspec": {
   "display_name": "Python 3 (ipykernel)",
   "language": "python",
   "name": "python3"
  },
  "language_info": {
   "codemirror_mode": {
    "name": "ipython",
    "version": 3
   },
   "file_extension": ".py",
   "mimetype": "text/x-python",
   "name": "python",
   "nbconvert_exporter": "python",
   "pygments_lexer": "ipython3",
   "version": "3.9.7"
  },
  "notebook_id": 7,
  "toc": {
   "base_numbering": 1,
   "nav_menu": {},
   "number_sections": false,
   "sideBar": false,
   "skip_h1_title": false,
   "title_cell": "Table of Contents",
   "title_sidebar": "Contents",
   "toc_cell": false,
   "toc_position": {},
   "toc_section_display": false,
   "toc_window_display": false
  }
 },
 "nbformat": 4,
 "nbformat_minor": 4
}
