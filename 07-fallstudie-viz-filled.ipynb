{
 "cells": [
  {
   "cell_type": "markdown",
   "metadata": {},
   "source": [
    "# Der Ruin des Spielers - Mit Visualisierung\n",
    "\n",
    "In der Fallstudie *Der Ruin des Spielers* haben wir eine Roulette-Simulation geschrieben, mit der wir berechnen konnten, wie häufig ein Spieler beim Roulettespielen einen bestimmten Zielbetrag erreicht, und wie oft er vorher Bankrott getht. \n",
    "\n",
    "In dieser Fallstudie werden wir auf unserer Lösung aufbauen, zusätzlich aber verschiedene Aspekte mit Matplotlib (pyplot) visualisieren."
   ]
  },
  {
   "cell_type": "markdown",
   "metadata": {},
   "source": [
    "### Ein Spiel simulieren"
   ]
  },
  {
   "cell_type": "markdown",
   "metadata": {},
   "source": [
    "Zuerst nutzen wir wieder die Zufallsfunktion um ein [Roulettespiel](https://de.wikipedia.org/wiki/Roulette) zu simulieren. Wir schreiben uns dafür eine Funktion. Diese bekommt als Argument unseren Einsatz, und gibt unseren Gewinn zurück. Was wir zurückbekommen ist zwei mal der Einsatz im Gewinnfall, oder 0 falls wir nicht gewinnen. Wir setzen dabei immer nur auf eine der Farben und schliessen nie andere Wetten ab.Da es keinen Unterschied für die Gewinnchancen macht ob wir auf Rot oder Schwarz setzen, bilden wir dies in unserer Funktion nicht ab. Wir implementieren nur die Tatsache, dass wir in 19 von 37 Fällen verlieren und in 18 gewinnen. "
   ]
  },
  {
   "cell_type": "code",
   "execution_count": 1,
   "metadata": {},
   "outputs": [],
   "source": [
    "import random\n",
    "\n",
    "def play_game(bet): \n",
    "    random_number = random.randint(0, 36)\n",
    "    if random_number == 0:\n",
    "        return 0\n",
    "    elif random_number <= 18:\n",
    "        return 0\n",
    "    else: \n",
    "        return 2 * bet"
   ]
  },
  {
   "cell_type": "code",
   "execution_count": null,
   "metadata": {},
   "outputs": [],
   "source": [
    "play_game(5)"
   ]
  },
  {
   "cell_type": "markdown",
   "metadata": {},
   "source": [
    "### Wie oft gewinnen wir ein einzelnes Spiel "
   ]
  },
  {
   "cell_type": "markdown",
   "metadata": {},
   "source": [
    "Als erste, einfachste Visualisierung, erstellen wir einen Bar-Chart, der anzeigt, wie oft wir gewinnen und wie oft wir verlieren, wenn wir viele Male spielen. Bar-Charts wurden in der Theorie nicht besprochen, wir schauen also zuerst in der [Dokumetation](https://matplotlib.org/stable/api/_as_gen/matplotlib.pyplot.bar.html), wie wir diese erzeugen."
   ]
  },
  {
   "cell_type": "code",
   "execution_count": null,
   "metadata": {},
   "outputs": [],
   "source": [
    "from matplotlib.pyplot import *\n",
    "\n",
    "n_games = 5000\n",
    "n_wins = 0\n",
    "n_losses = 0\n",
    "for i in range(0, n_games):\n",
    "    if play_game(1) == 0:\n",
    "        n_losses = n_losses + 1\n",
    "    else:\n",
    "        n_wins = n_wins + 1\n",
    "        \n",
    "bar([\"lose\", \"win\"], [n_losses, n_wins], color=[\"blue\", \"red\"])\n",
    "title(\"Wins and losses\")\n",
    "ylabel(\"# wins\")\n",
    "yticks([0, n_games / 2, n_games])\n",
    "show()\n"
   ]
  },
  {
   "cell_type": "markdown",
   "metadata": {},
   "source": [
    "### Wie oft können wir spielen, bevor wir bankrott sind. \n",
    "\n",
    "Wir haben uns auch eine Funktion geschrieben, die Spiele simuliert und zählt, wie lange es dauert bis wir bankrott sind. Nun wollen wir diesen Aspekt simulieren. Dafür nutzen wir ein Histogram.\n"
   ]
  },
  {
   "cell_type": "code",
   "execution_count": 14,
   "metadata": {},
   "outputs": [],
   "source": [
    "def play_until_ruined(initial_amount, bet):\n",
    "    balance = initial_amount\n",
    "    \n",
    "    num_games = 0\n",
    "    while balance >= bet :\n",
    "        balance = balance - bet\n",
    "        balance = balance + play_game(bet)\n",
    "        num_games = num_games + 1\n",
    "        \n",
    "    return num_games"
   ]
  },
  {
   "cell_type": "code",
   "execution_count": null,
   "metadata": {},
   "outputs": [],
   "source": [
    "num_played_before_ruined = []\n",
    "\n",
    "\n",
    "for i in range(0, 10000):\n",
    "    num_til_ruined = play_until_ruined(100, 10)\n",
    "    num_played_before_ruined.append(num_til_ruined)\n",
    "    \n",
    "hist(num_played_before_ruined, bins=100, label='empirical')\n",
    "xlabel(\"# wins before losing\")\n",
    "\n",
    "show()\n"
   ]
  },
  {
   "cell_type": "markdown",
   "metadata": {},
   "source": [
    "### Spielen mit Zielbetrag"
   ]
  },
  {
   "cell_type": "markdown",
   "metadata": {},
   "source": [
    "Im Weiteren haben wir Spiele simuliert, bei denen der Spieler solange spielt, bis ein bestimmter Zielbetrag erreicht wurde. Den Verlauf von solch einer Serie von Spielen zu visualisieren gibt uns interessante Einsichten über die Dynamik dieses Prozesses. \n"
   ]
  },
  {
   "cell_type": "code",
   "execution_count": 15,
   "metadata": {},
   "outputs": [],
   "source": [
    "def play_until_target_reached_or_ruined(initial_amount, bet, target_amount):\n",
    "    balance = initial_amount\n",
    "\n",
    "    balances = [initial_amount]\n",
    "    \n",
    "    while balance >= bet and balance < target_amount:\n",
    "        balance = balance - bet\n",
    "        balance = balance + play_game(bet)\n",
    "        balances.append(balance)\n",
    "\n",
    "    return (balance >= target_amount, balances)"
   ]
  },
  {
   "cell_type": "code",
   "execution_count": null,
   "metadata": {},
   "outputs": [],
   "source": [
    "(have_won, balances) = play_until_target_reached_or_ruined(100, 10, 1000)\n",
    "plot(range(0, len(balances)), balances, label=\"balance\")\n",
    "axis(ymin = 0, ymax = 1000)\n",
    "legend()\n",
    "show()"
   ]
  },
  {
   "cell_type": "markdown",
   "metadata": {},
   "source": [
    "### Abhängigkeit der Gewinnwahrscheinlichkeit von Einsatz und Zielbetrag. "
   ]
  },
  {
   "cell_type": "markdown",
   "metadata": {},
   "source": [
    "Zum Schluss wollen wir noch visualisieren, wie die Gewinnwahrscheinlichkeit vom Einsatz und dem gewünschten Zielbetrag abhängt. Wir nutzen dazu unsere Funktion, die für gegebene Parameter zählt, wie oft wir gewonnen haben. "
   ]
  },
  {
   "cell_type": "code",
   "execution_count": null,
   "metadata": {},
   "outputs": [],
   "source": [
    "def count_wins_in_n_games(number_of_tries, initial_amount, bet_per_game, target_amount):\n",
    "\n",
    "    num_wins = 0\n",
    "\n",
    "    i = 0\n",
    "    while i < number_of_tries:\n",
    "        (won, balances) = play_until_target_reached_or_ruined(initial_amount, bet_per_game, target_amount)\n",
    "        if won:\n",
    "            num_wins = num_wins + 1\n",
    "        i += 1\n",
    "\n",
    "    return num_wins\n",
    "count_wins_in_n_games(100, 100, 10, 150)"
   ]
  },
  {
   "cell_type": "markdown",
   "metadata": {},
   "source": [
    "Um die Gewinnwahrscheinlichkeit zu berechnen, müssen wir nur nur diese Funktion aufrufen und den Anteil an Gewinnen berechnen."
   ]
  },
  {
   "cell_type": "code",
   "execution_count": null,
   "metadata": {},
   "outputs": [],
   "source": [
    "initial_amount = 100\n",
    "num_games = 100\n",
    " \n",
    "bets = [initial_amount / 100, initial_amount / 10, initial_amount / 2]\n",
    "target_amounts = [ 1.2 * initial_amount, 2 * initial_amount, 3 * initial_amount]\n",
    "\n",
    "num_wins=[]\n",
    "\n",
    "for i in range(0, len(bets)):\n",
    "    num_wins.append([])\n",
    "    for j in range(0, len(target_amounts)):\n",
    "        num_wins[i].append(count_wins_in_n_games(num_games, initial_amount, bets[i], target_amounts[j]))\n",
    "print(num_wins)\n",
    "imshow(num_wins)\n",
    "\n",
    "\n",
    "title(\"number of wins for initial amount of \" +str(initial_amount))\n",
    "xlabel('target amount')\n",
    "xticks(range(0, len(target_amounts)), target_amounts)\n",
    "\n",
    "ylabel('bets')\n",
    "#yticks(range(0, len(bets)), bets)\n",
    "yticks([0, 1, bets])\n",
    "colorbar()\n",
    "show()        "
   ]
  },
  {
   "cell_type": "code",
   "execution_count": null,
   "metadata": {},
   "outputs": [],
   "source": []
  }
 ],
 "metadata": {
  "kernelspec": {
   "display_name": "Python 3 (ipykernel)",
   "language": "python",
   "name": "python3"
  },
  "language_info": {
   "codemirror_mode": {
    "name": "ipython",
    "version": 3
   },
   "file_extension": ".py",
   "mimetype": "text/x-python",
   "name": "python",
   "nbconvert_exporter": "python",
   "pygments_lexer": "ipython3",
   "version": "3.12.4"
  },
  "toc": {
   "base_numbering": 1,
   "nav_menu": {},
   "number_sections": false,
   "sideBar": false,
   "skip_h1_title": false,
   "title_cell": "Table of Contents",
   "title_sidebar": "Contents",
   "toc_cell": false,
   "toc_position": {},
   "toc_section_display": false,
   "toc_window_display": false
  }
 },
 "nbformat": 4,
 "nbformat_minor": 4
}
