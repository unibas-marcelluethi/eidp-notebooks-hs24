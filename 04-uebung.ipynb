{
 "cells": [
  {
   "cell_type": "markdown",
   "metadata": {},
   "source": [
    "# Übungsblatt Woche 4: Prozeduren und Funktionen"
   ]
  },
  {
   "cell_type": "markdown",
   "metadata": {
    "deletable": false
   },
   "source": [
    "*Schreiben Sie in dieses Feld Ihren Vornamen, Namen und Email-Adressen.*"
   ]
  },
  {
   "cell_type": "markdown",
   "metadata": {},
   "source": [
    "### Allgemeine Hinweise\n",
    "\n",
    "* Bitte beachten Sie, dass Sie Namen der Prozeduren und Funktionen genau wie angeben übernommen werden sollen. Auch müssen die vorgegebenen Ausgaben zeichengenau reproduzieren müssen (inkl. Gross und Kleinschreibung), da ansonsten das Korrekturtool Ihre Abgabe eventuell als falsch bewertet.\n"
   ]
  },
  {
   "cell_type": "markdown",
   "metadata": {
    "deletable": false
   },
   "source": [
    "#### Aufgabe 1: Hallo Welt  - Prozedur (1 Punkt)\n",
    "\n",
    "Schreiben Sie eine Prozedur ```hello_world_printer```, welche beim Aufruf den Text ```hello world``` auf dem Bildschirm ausgibt."
   ]
  },
  {
   "cell_type": "code",
   "execution_count": null,
   "metadata": {
    "deletable": false,
    "exercise_id": 1
   },
   "outputs": [],
   "source": [
    "# Ihre Lösung"
   ]
  },
  {
   "cell_type": "markdown",
   "metadata": {},
   "source": [
    "#### Aufgabe 2: Hallo Welt - Funktion (1 Punkt)\n",
    "\n",
    "Schreiben Sie eine Funktion ```hello_world_fun```, welche beim Aufruf den Text ```hello world``` an den Aufrufer zurückgibt."
   ]
  },
  {
   "cell_type": "code",
   "execution_count": null,
   "metadata": {
    "deletable": false,
    "exercise_id": 2
   },
   "outputs": [],
   "source": [
    "# Ihre Lösung"
   ]
  },
  {
   "cell_type": "markdown",
   "metadata": {},
   "source": [
    "#### Aufgabe 3: print_n_times (1 Punkt)\n",
    "\n",
    "Schreiben Sie eine Prozedur ```print_n_times```, welche als erstes Argument einen Text und als zweites Argument eine positive Zahl ```n```entgegennimmt. Die Prozedur soll den übergebenen Text ```n``` mal ausgeben, wobei jede Ausgabe auf eine neue Zeile kommt. "
   ]
  },
  {
   "cell_type": "code",
   "execution_count": null,
   "metadata": {
    "deletable": false,
    "exercise_id": 3
   },
   "outputs": [],
   "source": [
    "# Ihre Lösung"
   ]
  },
  {
   "cell_type": "markdown",
   "metadata": {},
   "source": [
    "#### Aufgabe 4: Summe der Quadratzahlen (1 Punkt)\n",
    "\n",
    "Schreiben Sie eine Funktion ```sum_of_squares```, welche als Argumente eine Zahl ```lo``` und eine Zahl ```hi``` entgegennimmt, und dann die Summe aller Quadratzahlen im Interval ```[lo, hi]``` (inklusive ```lo``` und ```hi```) berechnet und das Resultat zurückgibt. "
   ]
  },
  {
   "cell_type": "code",
   "execution_count": null,
   "metadata": {
    "deletable": false,
    "exercise_id": 4
   },
   "outputs": [],
   "source": [
    "# Ihre Lösung"
   ]
  },
  {
   "cell_type": "markdown",
   "metadata": {},
   "source": [
    "#### Aufgabe 5: Division (2 Punkte)\n",
    "\n",
    "Schreiben Sie eine Funktion ```divide``` welche als Argument eine Zahl ```a``` und eine Zahl ```b``` entgegennimmt und $a / b$ berechnet. Wenn ```b``` die Zahl 0 ist, soll die Fehlermeldung ```Fehler: Division durch 0!``` auf dem Bildschirm ausgegeben werden.  Ansonsten soll das Resultat der Berechnung zurückgegeben werden. \n"
   ]
  },
  {
   "cell_type": "code",
   "execution_count": null,
   "metadata": {
    "deletable": false,
    "exercise_id": 5
   },
   "outputs": [],
   "source": [
    "# Ihre Lösung\n"
   ]
  },
  {
   "cell_type": "markdown",
   "metadata": {
    "deletable": false
   },
   "source": [
    "#### Aufgabe 6: Vollkommene Zahlen (4 Punkte)\n",
    "\n",
    "1. Schreiben Sie eine Funktion ```is_divisor```, die zwei Zahlen ```a``` und ```b``` entgegennimmt und den boolschen Wert ```True``` zurückgibt, wenn ```b``` ein Teiler von ```a``` ist und ansonst ```False```. \n",
    "2. Schreiben Sie eine Funktion ```sum_of_divisors``` welche die Summe aller positiven Teiler, ohne die Zahl selbst, einer übergebenen positiven Zahl zurückgibt. Diese soll die obige Funktion ```is_divisor``` nutzen. \n",
    "3. Schreiben Sie eine Funktion ```is_perfect_number``` welche feststellt, ob eine Zahl, die als Argument übergeben wird, eine vollkommene Zahl ist. Eine Zahl heisst vollkommen, falls die Summe der positiven Teiler gleich der Zahl selbst ist. Wenn die Zahl eine vollkommene Zahl ist, soll ```True``` zurückgegeben werden, ansonsten ```False```. (Ein Beispiel einer Vollkommenen Zahl wäre 28, da diese die Summer Ihrer Teiler $14 + 7 + 4 + 2 + 1$ ist). \n",
    "4. Schreiben Sie eine Prozedur ```print_perfect_numbers``` welche alle Zahlen zwischen 1 und 1000 (inklusive) ausgibt, die vollkommene Zahlen sind. Dabei soll jede Zahl auf eine eigene Zeile geschrieben werden.\n",
    "\n",
    "#### Hinweise:  \n",
    "* Die Funktionen bauen jeweils aufeinander auf. D.h. in ```sum_of_divisors``` sollten Sie die Funktion ```is_divisor``` nutzen. \n",
    "* Testen Sie jede Funktion separat und stellen sie sicher, dass diese funktioniert, bevor sie diese in der nächsten Funktion nutzen. Für die Abgabe muss Ihre Lösung (d.h. alle von Ihnen definierten Funktionen und Prozeduren) in der nachfolgenden Zelle enthalten sein."
   ]
  },
  {
   "cell_type": "code",
   "execution_count": null,
   "metadata": {
    "deletable": false,
    "exercise_id": 6
   },
   "outputs": [],
   "source": [
    "# Ihre Lösung"
   ]
  }
 ],
 "metadata": {
  "celltoolbar": "Edit Metadata",
  "exercise_series": "eidp",
  "kernelspec": {
   "display_name": "Python 3 (ipykernel)",
   "language": "python",
   "name": "python3"
  },
  "language_info": {
   "codemirror_mode": {
    "name": "ipython",
    "version": 3
   },
   "file_extension": ".py",
   "mimetype": "text/x-python",
   "name": "python",
   "nbconvert_exporter": "python",
   "pygments_lexer": "ipython3",
   "version": "3.8.16"
  },
  "notebook_id": 3,
  "toc": {
   "base_numbering": 1,
   "nav_menu": {},
   "number_sections": false,
   "sideBar": false,
   "skip_h1_title": false,
   "title_cell": "Table of Contents",
   "title_sidebar": "Contents",
   "toc_cell": false,
   "toc_position": {},
   "toc_section_display": false,
   "toc_window_display": false
  }
 },
 "nbformat": 4,
 "nbformat_minor": 4
}
