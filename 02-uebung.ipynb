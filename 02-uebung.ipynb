{
 "cells": [
  {
   "cell_type": "markdown",
   "metadata": {},
   "source": [
    "# Übungsblatt Woche 2: Erste Programme "
   ]
  },
  {
   "cell_type": "markdown",
   "metadata": {
    "deletable": false
   },
   "source": [
    "*Schreiben Sie in dieses Feld Ihren Namen und ihre E-Mail Adresse.*"
   ]
  },
  {
   "cell_type": "markdown",
   "metadata": {},
   "source": [
    "### Hinweise zu den Übungen\n",
    "\n",
    "Es ist sehr wichtig, dass Ihre Programme genau das machen, was in der Beschreibung verlangt ist. Die Variablen müssen genau so heissen, wie vorgegeben, und auch die Ausgabe muss genau so gemacht werden wie vorgegeben. Dabei ist jedes Satzzeichen, gross und Kleinschreibung als auch jedes Leerzeichen wichtig. Falls das Korrekturtool ihnen mitteilt, dass die Ausgabe nicht richtig ist, überprüfen Sie doch nochmals ob sie wirklich alles wie vorgegeben geschrieben haben. \n",
    "\n",
    "\n",
    "##### Automatisierte Korrektur mit dem Korrekturtool\n",
    "\n",
    "Für die automatische Korrektur müssen Sie die folgenden Schritte ausführen:\n",
    "\n",
    "* Laden Sie das Notebook auf Ihren Computer herunter:\n",
    "    * Wählen Sie im Menu File / Download as / Notebook (.ipynb) aus.\n",
    "    * Wählen Sie dann den Speicherort wenn in ihrem Browser kein Standardpfad gesetzt ist.\n",
    "    * Überprüfen Sie ob die Datei 02-uebung.ipynb auf ihrem Computer existiert.\n",
    "    * Sollte die Endung .ipynb.txt sein, löschen Sie den Teil .txt vom Dateinamen.\n",
    "* Laden Sie das Notebook für die automatische Bewertung hoch.\n",
    "    * Öffnen Sie die Seite [Übungsbetrieb](https://dmi-programming.dmi.unibas.ch/eidp/exercise) in ihrem Browser.\n",
    "    * Wählen Sie unter Datei auswählen die Datei auf ihrem Computer aus.\n",
    "    * Drücken Sie auf Überprüfen und haben Sie etwas Geduld.\n",
    "      Sie sollten dann angezeigt bekommen ob Sie die bewertete Aufgabe schon richtig gelöst haben.\n",
    "\n",
    "Sie können die Überprüfung so oft widerholen wie Sie wollen. Es werden auch keine Daten gespeichert nach dem die Überprüfung abgeschlossen ist.\n",
    "\n",
    "##### Abgabe\n",
    "\n",
    "* Geben Sie die Übung via [Adam](https://adam.unibas.ch/goto_adam_exc_1626588.html) ab, indem Sie das in vorigem Schritt heruntergeladene Notebook einreichen. "
   ]
  },
  {
   "cell_type": "markdown",
   "metadata": {
    "deletable": false
   },
   "source": [
    "#### Variablendeklaration (1 Punkt)\n",
    "\n",
    "Weisen Sie den Wert ```42``` einer Variable mit dem Namen ```ultimate_answer``` zu."
   ]
  },
  {
   "cell_type": "code",
   "execution_count": null,
   "metadata": {
    "deletable": false,
    "exercise_id": 1
   },
   "outputs": [],
   "source": [
    "# Ihre Lösung"
   ]
  },
  {
   "cell_type": "markdown",
   "metadata": {
    "deletable": false
   },
   "source": [
    "#### Peptalk (2 Punkte)\n",
    "\n",
    "\n",
    "Schreiben Sie ein Programm, welches Ihren Vornamen in einer Variable ```firstname``` speichert und dann folgenden Text ausgibt:\n",
    "> Hallo VORNAME - Es freut mich, dass du programmieren lernst. \n",
    "\n",
    "Dabei soll natürlich statt *VORNAME* der in der Variable gespeicherte Namen stehen. Der Text muss dabei auf einer Zeile ausgegeben werden. \n"
   ]
  },
  {
   "cell_type": "code",
   "execution_count": null,
   "metadata": {
    "deletable": false,
    "exercise_id": 2
   },
   "outputs": [],
   "source": [
    "# Ihre Lösung"
   ]
  },
  {
   "cell_type": "markdown",
   "metadata": {},
   "source": [
    "#### Zinseszinsen (2 Punkte)\n",
    "\n",
    "Gegeben sind die zwei unten definierten Variablen, welche ein Startkapital sowie einen Zinssatz festlegen. \n",
    "Schreiben Sie ein Programm, dass das am Endes des ersten und zweiten Jahres enstehende Gesamtkapital (also das Kapital plus die erhaltenen Zinsen) berechnet. Ihr Programm soll dabei folgende Anforderungen erfüllen:\n",
    "\n",
    "* Das Kapital, inklusive der Zinsen nach dem ersten Jahr, muss in einer Variablen mit dem Namen ```kapital_jahr_1``` gespeichert werden. \n",
    "* Das Kapital, inklusive Zinsen nach dem zweiten Jahr, muss in einer Variable mit dem Namen ```kapital_jahr_2``` gespeichert werden.\n",
    "* Es soll eine Meldung mit dem Text ```Kapital nach Jahr 2: Fr. XXX``` ausgegeben werden, wobei XXX mit dem in der Variable `kapital_jahr_2` gespeicherten Wert ersetzt werden soll. \n"
   ]
  },
  {
   "cell_type": "code",
   "execution_count": null,
   "metadata": {
    "deletable": false,
    "exercise_id": 3
   },
   "outputs": [],
   "source": [
    "startkapital = 100 \n",
    "zinssatz = 0.01\n",
    "\n",
    "# Ihre Lösung"
   ]
  },
  {
   "cell_type": "markdown",
   "metadata": {
    "deletable": false
   },
   "source": [
    "\n",
    "#### Windchill  (2 Punkte)\n",
    "\n",
    "Sie möchten zum Skifahren. Der Wetterbericht meldet -5 C bei leichtem Wind von 25 km/h. Wie fühlt sich dies wohl an? Mit dem Windchill-Faktor können sie die gefühlte Temperatur abschätzen. \n",
    "\n",
    "Der Windchill-Faktor $wc$ ist wie folgt definiert:\n",
    "\n",
    "$wc = 13.12 + 0.615 t - 11.37 v^{0.16} + 0.3965 t v^{0.16}$\n",
    "\n",
    "Dabei bezeichnet $t$ die aktuelle Temperatur (in Grad Celsius) und $v$ die Windgeschwindigkeit (in km/h). Schreiben Sie \n",
    "ein Programm, das den Windchill-Faktor zu den oben genannten Bedingungen berechnet.\n",
    "\n",
    "* Nutzen Sie dazu zwei Variablen ```v``` und ```t``` und speichern Sie das Ergebnis in einer Variablen mit dem Namen ```wc```. \n",
    "* Initialisieren Sie die Variable ```v``` mit dem Wert 25 und ```t``` mit ```-5```.\n",
    "* Geben Sie die Meldung ```Windchill-Faktor: WC``` aus, wobei ```WC``` mit dem berechneten Wert ersetzt werden soll.\n",
    "\n",
    "Tipp: Der Ausdruck ```a ** b``` berechnet $a^b$. "
   ]
  },
  {
   "cell_type": "code",
   "execution_count": null,
   "metadata": {
    "deletable": false,
    "exercise_id": 4
   },
   "outputs": [],
   "source": [
    "# Ihre Lösung"
   ]
  },
  {
   "cell_type": "markdown",
   "metadata": {},
   "source": [
    "#### Typen (1 Punkt)\n",
    "\n",
    "Schreiben Sie ein Programm, welches den Typ des Werts der aus den Berechnungen ```5 % 3``` und ```5 / 1``` mittels ```print``` ausgibt. Dabei soll jeweils eine eigene Zeile verwendet werden. \n",
    "\n"
   ]
  },
  {
   "cell_type": "code",
   "execution_count": null,
   "metadata": {
    "deletable": false,
    "exercise_id": 5
   },
   "outputs": [],
   "source": [
    "# Ihre Lösung"
   ]
  },
  {
   "cell_type": "markdown",
   "metadata": {
    "deletable": false
   },
   "source": [
    "#### Swap (2 Punkte)\n",
    "\n",
    "Schreiben Sie ein Programm, welches den Wert der Variablen ```a``` und ```b``` vertauscht, d.h. ```a``` soll am Ende den Wert von ```b``` haben und ```b``` den Wert der Variablen ```a```. Dabei dürfen Sie die Werte ```0``` und ```1``` nicht direkt zuweisen, sondern müssen die Variablen (und allenfalls Hilfsvariablen) nutzen.  "
   ]
  },
  {
   "cell_type": "code",
   "execution_count": null,
   "metadata": {
    "deletable": false,
    "exercise_id": 6
   },
   "outputs": [],
   "source": [
    "a = 0 # Diese Zeile darf nicht verändert werden\n",
    "b = 1 # Diese Zeile darf nicht verändert werden\n",
    "\n",
    "# Ihre Lösung\n"
   ]
  },
  {
   "cell_type": "code",
   "execution_count": null,
   "metadata": {},
   "outputs": [],
   "source": []
  }
 ],
 "metadata": {
  "celltoolbar": "Edit Metadata",
  "exercise_series": "eidp",
  "kernelspec": {
   "display_name": "Python [conda env:python_eidp_env]",
   "language": "python",
   "name": "conda-env-python_eidp_env-py"
  },
  "language_info": {
   "codemirror_mode": {
    "name": "ipython",
    "version": 3
   },
   "file_extension": ".py",
   "mimetype": "text/x-python",
   "name": "python",
   "nbconvert_exporter": "python",
   "pygments_lexer": "ipython3",
   "version": "3.9.16"
  },
  "notebook_id": 1,
  "toc": {
   "base_numbering": 1,
   "nav_menu": {},
   "number_sections": false,
   "sideBar": false,
   "skip_h1_title": false,
   "title_cell": "Table of Contents",
   "title_sidebar": "Contents",
   "toc_cell": false,
   "toc_position": {},
   "toc_section_display": false,
   "toc_window_display": false
  }
 },
 "nbformat": 4,
 "nbformat_minor": 4
}
