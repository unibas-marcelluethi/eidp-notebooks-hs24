{
 "cells": [
  {
   "cell_type": "markdown",
   "id": "882cb365",
   "metadata": {
    "deletable": false,
    "editable": false
   },
   "source": [
    "# Einführung in die Programmierung\n",
    "## Probeprüfung vom 19. Dezember 2024\n",
    "### Zeit: 80 Minuten"
   ]
  },
  {
   "cell_type": "markdown",
   "id": "4711f064",
   "metadata": {
    "deletable": false
   },
   "source": [
    "*Schreiben Sie in dieses Feld Ihren Vornamen, Namen und email Adresse.*"
   ]
  },
  {
   "cell_type": "markdown",
   "id": "0de914d7",
   "metadata": {
    "deletable": false,
    "editable": false
   },
   "source": [
    "## Übersetzungstool\n",
    "\n",
    "Sie dürfen das Übersetzungstool [Google Translate](https://translate.google.com) verwenden."
   ]
  },
  {
   "cell_type": "markdown",
   "id": "c8835b00",
   "metadata": {
    "deletable": false,
    "editable": false
   },
   "source": [
    "## Theorie (10 Punkte)"
   ]
  },
  {
   "cell_type": "markdown",
   "id": "865dfba8",
   "metadata": {
    "deletable": false,
    "editable": false
   },
   "source": [
    "### Aufgabe 1 (2 Punkte)\n",
    "\n",
    "Welche der folgenden Aussagen zum Code `\"1\" + \"3\"` sind richtig?\n",
    "\n",
    "1. `\"1\"` und `\"3\"` sind gültige Werte in Python.\n",
    "2. Das Zeichen `+` ist ein boolscher Operator.\n",
    "3. Das Resultat dieser Operation ist der Wert `\"4\"` und ist vom Typ `str`.\n",
    "4. Das Resultat dieser Operation könnte einer Variable zugewiesen werden,\n",
    "\n",
    "Löschen Sie die Nummern der nicht zutreffenden Antworte(n) in der folgenden Zelle:"
   ]
  },
  {
   "cell_type": "code",
   "execution_count": null,
   "id": "db6c8933",
   "metadata": {
    "deletable": false,
    "exercise_id": 1
   },
   "outputs": [],
   "source": [
    "[1,2,3,4] "
   ]
  },
  {
   "cell_type": "markdown",
   "id": "87cd4239",
   "metadata": {
    "deletable": false
   },
   "source": [
    "### Aufgabe 2 (2 Punkte)\n",
    "\n",
    "Welche Aussagen zu folgendem logischen Ausdruck sind richtig? Dabei sind `a` `b` und `c` Variablen vom Typ `bool`\n",
    "\n",
    "```python\n",
    "(a == a) and (not (b == c))\n",
    "```\n",
    "\n",
    "1. Wenn `a` den Wert `True` hat, ist der Wert des Ausdrucks immer `True`.\n",
    "2. Wenn `b != c` ist, ist der Wert des Ausdrucks immer `True`.\n",
    "3. Der Ausdruck ist immer `False`, unabhängig vom Wert von `a`\n",
    "4. Der Wahrheitswert des Ausdrucks hängt von den Werten aller Variablen ab. \n",
    "\n",
    "Löschen Sie die Nummern der nicht zutreffenden Antworte(n) in der folgenden Zelle:"
   ]
  },
  {
   "cell_type": "code",
   "execution_count": null,
   "id": "2d9d18bf",
   "metadata": {
    "deletable": false,
    "exercise_id": 2
   },
   "outputs": [],
   "source": [
    "[1,2,3,4]"
   ]
  },
  {
   "cell_type": "markdown",
   "id": "e3e9dadc",
   "metadata": {
    "deletable": false
   },
   "source": [
    "### Aufgabe 3 (2 Punkte)\n",
    "\n",
    "Welche der folgenden Aussagen sind wahr?\n",
    " 1. Der ```else```-Fall einer Verzweigung wird in jedem Fall ausgeführt.\n",
    " 2. Innerhalb von Verzweigungen dürfen keine Schleifen benutzt werden. \n",
    " 3. Die `return` Anweisung beendet die Ausführung eines Programms.\n",
    " 4. Falls die Schleifenbedingung in einer `while`-Schleife immer `True` ist führt dies zu einer Endlosschleife.\n",
    " \n",
    "Löschen Sie die Nummern der nicht zutreffenden Behauptungen in der folgenden Zelle."
   ]
  },
  {
   "cell_type": "code",
   "execution_count": null,
   "id": "f7487246",
   "metadata": {
    "deletable": false,
    "exercise_id": 3
   },
   "outputs": [],
   "source": [
    "[1,2,3,4]"
   ]
  },
  {
   "cell_type": "markdown",
   "id": "d637308f",
   "metadata": {
    "deletable": false,
    "editable": false
   },
   "source": [
    "### Aufgabe 4 (2 Punkte)\n",
    "\n",
    "Welche der folgenden Aussagen zu folgendem Code sind wahr\n",
    "\n",
    "```python\n",
    "a = 3\n",
    "def foo(a):\n",
    "    b = 7\n",
    "    print(a + b)\n",
    "print(a)\n",
    "```\n",
    "\n",
    " 1. Auf die Variable `b` darf nur innerhalb der Prozedur `foo` zugegriffen werden.\n",
    " 2. Die Prozedur `foo` gibt immer `10` aus.\n",
    " 3. Die letzte `print` Anweisung gibt den Wert `3` aus.\n",
    " 4. Das Programm funktioniert so nicht, da die Variable `a` zweimal definiert ist. \n",
    " \n",
    "Löschen Sie die Nummern der nicht zutreffenden Behauptungen in der folgenden Zelle."
   ]
  },
  {
   "cell_type": "code",
   "execution_count": null,
   "id": "d5dc49cd",
   "metadata": {
    "deletable": false,
    "exercise_id": 4
   },
   "outputs": [],
   "source": [
    "[1,2,3,4]"
   ]
  },
  {
   "cell_type": "markdown",
   "id": "6f3527a9",
   "metadata": {
    "deletable": false
   },
   "source": [
    "### Aufgabe 5 (2 Punkte)\n",
    "\n",
    "Welche der folgenden Aussagen sind richtig?\n",
    "\n",
    "* Laufzeitfehler können auch in Programmen mit korrekter Syntax auftreten. \n",
    "* Syntaxfehler können von Python entdeckt werden, bevor das Programm ausgeführt wird. \n",
    "* Logikfehler führen zu einem Programmabbruch.\n",
    "* Eine Endlosschleife ist ein Syntaxfehler. "
   ]
  },
  {
   "cell_type": "code",
   "execution_count": null,
   "id": "25e85f56",
   "metadata": {
    "deletable": false,
    "exercise_id": 5
   },
   "outputs": [],
   "source": [
    "[1,2,3,4]"
   ]
  },
  {
   "cell_type": "markdown",
   "id": "2e774137",
   "metadata": {
    "deletable": false,
    "editable": false
   },
   "source": [
    "## Code lesen, verstehen und verändern (6 Punkte)"
   ]
  },
  {
   "cell_type": "markdown",
   "id": "b62746d7",
   "metadata": {
    "deletable": false,
    "editable": false
   },
   "source": [
    "### Aufgabe 6 (2 Punkte)\n",
    "\n",
    "Gegeben ist die Funktion `mystery`. Beantworten Sie folgende Fragen:\n",
    "* Von welchem Typ sollen die Argumente dieser Funktion sein (mehrere Lösungen möglich)?\n",
    "* Was macht die Funktion (in einem Satz zusammengefasst)."
   ]
  },
  {
   "cell_type": "code",
   "execution_count": null,
   "id": "81dc9071",
   "metadata": {
    "deletable": false
   },
   "outputs": [],
   "source": [
    "def mystery(xs):\n",
    "    n = len(xs)\n",
    "    i = 0\n",
    "    while i <= n / 2:\n",
    "        (xs[i], xs[n - i - 1]) = (xs[n - i - 1], xs[i])\n",
    "        i = i + 1\n"
   ]
  },
  {
   "cell_type": "markdown",
   "id": "352fe7f1",
   "metadata": {
    "deletable": false,
    "exercise_id": 6
   },
   "source": [
    "* Ihre Antwort zur ersten Frage\n",
    "* Ihre Antwort zur zweiten Frage"
   ]
  },
  {
   "cell_type": "markdown",
   "id": "69ae13f9",
   "metadata": {
    "deletable": false,
    "slideshow": {
     "slide_type": "subslide"
    }
   },
   "source": [
    "### Aufgabe 7 (2 Punkte)\n",
    "\n",
    "Der folgende Code soll das zweitgrösste Element in der Liste von Zahlen suchen und zurückgeben. Leider hat sich bei der Implementation ein Fehler eingeschlichen. Ihre Aufgabe ist es, diesen Fehler zu finden. \n",
    "\n",
    "* Geben Sie ein Beispiel für einen Funktionsaufruf (also Werte für die Parameter), bei dem der Fehler Auftritt.\n",
    "* Was ist der Fehler und wie würden Sie diesen korrigieren? (Sie müssen die Lösung nicht programmieren, sondern nur beschreiben)"
   ]
  },
  {
   "cell_type": "code",
   "execution_count": null,
   "id": "661252f6",
   "metadata": {
    "deletable": false
   },
   "outputs": [],
   "source": [
    "def second_largest(numbers):\n",
    "    max_val = max(numbers)\n",
    "    numbers.remove(max_val)\n",
    "    return max(numbers)"
   ]
  },
  {
   "cell_type": "markdown",
   "id": "c3e3898d",
   "metadata": {
    "deletable": false,
    "exercise_id": 7
   },
   "source": [
    "*Schreiben Sie Ihre Antwort in diese Zelle!*"
   ]
  },
  {
   "cell_type": "markdown",
   "id": "a32c15e8",
   "metadata": {
    "deletable": false
   },
   "source": [
    "### Aufgabe 8: Code anpassen (2 Punkte)\n",
    "\n",
    "Der folgende Code nimmt eine Liste von Zahlen entgegen und entfernt daraus ein gegebenes Element. \n",
    "Passen Sie den Code so an, dass Sie statt einem Element, neu mehrere Elemente entfernen können. Orientieren Sie sich dabei an dem vorhandenen Code. \n",
    "\n",
    "```python\n",
    "def remove_element(numbers, element):\n",
    "    \n",
    "    while element in numbers:\n",
    "        numbers.remove(element)\n",
    "    return numbers\n",
    "```"
   ]
  },
  {
   "cell_type": "code",
   "execution_count": null,
   "id": "d1aea8b4",
   "metadata": {
    "deletable": false,
    "exercise_id": 8
   },
   "outputs": [],
   "source": [
    "def remove_element(numbers, element):\n",
    "    \n",
    "    while element in numbers:\n",
    "        numbers.remove(element)\n",
    "    return numbers"
   ]
  },
  {
   "cell_type": "markdown",
   "id": "9bc88797",
   "metadata": {
    "deletable": false,
    "editable": false
   },
   "source": [
    "## Programmieraufgaben (24 Punkte)"
   ]
  },
  {
   "cell_type": "markdown",
   "id": "2d0f10f6",
   "metadata": {
    "deletable": false,
    "editable": false
   },
   "source": [
    "### Aufgabe 9 (3 Punkte)\n",
    "\n",
    "Schreiben sie eine Funktion zur Berechnung der Quersumme einer beliebigen ganzen, positiven Zahl ```x```. Zum Beispiel ist die Quersumme von 4171 die Zahl 13 (also $4 + 1 + 7 + 1$). Hinweis, die letzte Ziffer einer Zahl ergibt sich als Rest bei der Division durch 10 und die letzte Ziffer kann mit der ganzzahligen Division ohne Rest abgespaltern werden."
   ]
  },
  {
   "cell_type": "code",
   "execution_count": null,
   "id": "73e8dc83",
   "metadata": {
    "deletable": false,
    "exercise_id": 9
   },
   "outputs": [],
   "source": [
    "# Ihre Lösung"
   ]
  },
  {
   "cell_type": "markdown",
   "id": "241f63ee",
   "metadata": {
    "deletable": false,
    "editable": false
   },
   "source": [
    "### Aufgabe 10 (3 Punkte)\n",
    "\n",
    "Schreiben Sie eine Funktion ```calculator```, welche 3 Argumente entgegennimmt. Das erste ist ein Text, welchem einer der Werte ```+, -, *, /``` entsprechen muss. Das zweite und dritte Argument sind Zahlen, auf welche die im ersten Argument angegebene arithmetische Operation ausgeführt wird. Die Funktion soll den Wert der Berechnung zurückgeben.\n",
    "\n",
    "Beispiel: Der Aufruf ```calculator(\"-\", 5, 3)``` sollte den Wert 2 ergeben."
   ]
  },
  {
   "cell_type": "code",
   "execution_count": null,
   "id": "0f12fcb3",
   "metadata": {
    "deletable": false,
    "exercise_id": 10
   },
   "outputs": [],
   "source": [
    "# Ihre Lösung"
   ]
  },
  {
   "cell_type": "markdown",
   "id": "da02e27a",
   "metadata": {
    "deletable": false
   },
   "source": [
    "### Aufgabe 11 (3 Punkte)\n",
    "\n",
    "Wir können ein Dictionary verwenden um Namen von Personen (Schlüssel) und deren Alter (Wert) zu speichern. \n",
    "Implementieren Sie die Funktion ```persons_with_age```, welches so ein Dictionary entgegennimmt.  Die Funktion soll eine Liste aller Personen zurückgeben, deren Alter in dem \n",
    "durch die Argumente ```from_age``` und ```to_age``` definierten Intervall (inklusive der Intervalgrenzen) liegen. "
   ]
  },
  {
   "cell_type": "code",
   "execution_count": null,
   "id": "c39707f1",
   "metadata": {
    "deletable": false,
    "exercise_id": 11
   },
   "outputs": [],
   "source": [
    "# Ihre Lösung"
   ]
  },
  {
   "cell_type": "markdown",
   "id": "8b01d7cf",
   "metadata": {
    "deletable": false
   },
   "source": [
    "### Aufgabe 12 (3 Punkte)\n",
    "\n",
    "Schreiben Sie eine Funktion `average`, welche eine Liste von Zahlen als Eingabe nimmt, und den Durchschnittswert der \n",
    "in der Liste gespeicherten Werte zurückgibt. Wenn die Liste leer ist, soll `None` zurückgegeben werden. \n",
    "\n",
    "Beispiel:\n",
    "\n",
    "Als Beispiel soll der Aufruf `average([1, 3, 2])` den Wert `2` zurückgeben. \n",
    "\n"
   ]
  },
  {
   "cell_type": "code",
   "execution_count": null,
   "id": "192144c5",
   "metadata": {
    "deletable": false,
    "exercise_id": 12
   },
   "outputs": [],
   "source": [
    "# Ihre Lösung"
   ]
  },
  {
   "cell_type": "markdown",
   "id": "ac73402a",
   "metadata": {
    "deletable": false
   },
   "source": [
    "### Aufgabe 13 (3 Punkte)\n",
    "\n",
    "Schreiben Sie eine Funktion `remove_chars`, welches einen Text und eine Liste von Zeichen als Argumente entgegennimmt und einen neuen Text zurückgibt, bei dem alle Zeichen, die in der Liste vorkommen, entfernt wurden. \n",
    "\n",
    "Als Beispiel soll \n",
    "```\n",
    "remove_chars(\"Mississippi\", [\"s\", \"p\"]) \n",
    "```\n",
    "den Text `Miiii` zurückgeben. "
   ]
  },
  {
   "cell_type": "code",
   "execution_count": null,
   "id": "7f2537a1",
   "metadata": {
    "deletable": false,
    "exercise_id": 13
   },
   "outputs": [],
   "source": [
    "# Ihre Lösung"
   ]
  },
  {
   "cell_type": "markdown",
   "id": "415e9981",
   "metadata": {
    "deletable": false,
    "editable": false
   },
   "source": [
    "### Aufgabe 14 (3 Punkte)\n",
    "\n",
    "Schreiben Sie eine Funktion `most_frequent_word`, welche eine Liste von Wörtern entgegennimmt und das am häufigst vorkommende Wort zurückgibt. \n",
    "\n",
    "*Tipp:* Nutzen Sie dazu ein Dictionary. \n",
    "\n",
    "Als Beispiel soll die Funktion \n",
    "`most_frequent_word([\"word1\", \"word2\", \"word1\"])` den Text `word1` zurückgeben. \n"
   ]
  },
  {
   "cell_type": "code",
   "execution_count": null,
   "id": "a7a83fa4",
   "metadata": {
    "deletable": false,
    "exercise_id": 14
   },
   "outputs": [],
   "source": [
    "# Ihre Lösung"
   ]
  },
  {
   "cell_type": "markdown",
   "id": "0705c60f",
   "metadata": {
    "deletable": false
   },
   "source": [
    "\n",
    "### Aufgabe 15 (6 Punkte)\n",
    "\n",
    "Schreiben Sie eine Klasse `Car` welche Daten über ein Auto repräsentieren soll. Ein Auto soll mit den Angaben *Marke*, *Model* und *Baujahr* initialisiert werden können. Diese sollen in den Attributen mit Namen `make`, `model` und `year` gespeichert werden. \n",
    "\n",
    "Implementieren Sie die Methoden `markAsSold` und `isSold`. Die erste soll das Auto als verkauft markieren, und die zweite soll zurückgeben, ob das Auto als verkauft markiert ist. \n",
    "\n",
    "Ergänzen Sie die Klasse so, dass der Vergleich von zwei Objekten richtig funktioniert (d.h. zwei Objekte sollen gleich sein, wenn die entsprechenden Attribute die gleichen Werte haben.) "
   ]
  },
  {
   "cell_type": "code",
   "execution_count": null,
   "id": "8e8e09ce",
   "metadata": {
    "deletable": false,
    "exercise_id": 15
   },
   "outputs": [],
   "source": [
    "# Ihre Lösung"
   ]
  }
 ],
 "metadata": {
  "celltoolbar": "Edit Metadata",
  "exercise_series": "eidp",
  "kernelspec": {
   "display_name": "Python 3",
   "language": "python",
   "name": "python3"
  },
  "language_info": {
   "codemirror_mode": {
    "name": "ipython",
    "version": 3
   },
   "file_extension": ".py",
   "mimetype": "text/x-python",
   "name": "python",
   "nbconvert_exporter": "python",
   "pygments_lexer": "ipython3",
   "version": "3.9.6"
  },
  "notebook_id": 23102,
  "toc": {
   "base_numbering": 1,
   "nav_menu": {},
   "number_sections": false,
   "sideBar": false,
   "skip_h1_title": false,
   "title_cell": "Table of Contents",
   "title_sidebar": "Contents",
   "toc_cell": false,
   "toc_position": {},
   "toc_section_display": false,
   "toc_window_display": false
  }
 },
 "nbformat": 4,
 "nbformat_minor": 5
}
