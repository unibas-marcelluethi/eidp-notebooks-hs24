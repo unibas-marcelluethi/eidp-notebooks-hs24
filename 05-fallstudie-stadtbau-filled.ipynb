{
 "cells": [
  {
   "cell_type": "markdown",
   "id": "a6876c80",
   "metadata": {},
   "source": [
    "# Zeichnen einer Stadt\n",
    "\n",
    "#### Patrick Schnider, Departement Mathematik und Informatik, Universität Basel"
   ]
  },
  {
   "cell_type": "markdown",
   "id": "4f3d4773",
   "metadata": {},
   "source": [
    "In dieser Fallstudie besprechen wir zusammen, wie wir mit Hilfe von Prozeduren ein Problem zerlegen und, auf flexible Art und Weise, wieder zusammenbauen können. Das konkrete Problem, an welchem wir die Strategie veranschaulichen, ist das Zeichnen einer Stadt. "
   ]
  },
  {
   "cell_type": "markdown",
   "id": "429f0715",
   "metadata": {},
   "source": [
    "### Problemstellung\n",
    "\n",
    "![city](images/city.png)"
   ]
  },
  {
   "cell_type": "markdown",
   "id": "566b6473",
   "metadata": {},
   "source": [
    "Unsere Aufgabe ist es, die obige Stadt zu zeichnen. Statt einfach nur genau die Stadt zu zeichnen, wollen wir nützliche Abstraktionen einführen, die uns nicht nur ermöglichen genau diese Stadt zu zeichnen, sondern auch andere Städte, Häuser und Hochhäuser. Vielleicht schaffen wir es sogar Abstraktionen zu schaffen, die für andere Anwendungen nützlich sind. "
   ]
  },
  {
   "cell_type": "markdown",
   "id": "2e23163d",
   "metadata": {},
   "source": [
    "### Hinweise zur Turtle-Bibliothek"
   ]
  },
  {
   "cell_type": "markdown",
   "id": "445f1527",
   "metadata": {},
   "source": [
    "Python's Turtlegrafik kann nicht direkt in Jupyter-Notebooks verwendet werden. Wir können aber eine Bibliothek importieren, die dieselbe Funktionalität implementiert"
   ]
  },
  {
   "cell_type": "code",
   "execution_count": null,
   "id": "e7c54cdc",
   "metadata": {},
   "outputs": [],
   "source": [
    "# Diese Zeile müssen Sie nur ausführen, wenn sie auf google-colab arbeiten.\n",
    "import sys\n",
    "!{sys.executable} -m pip install git+https://github.com/RetoKrummenacher/PJNturtle.git@v1.0.0 --quiet"
   ]
  },
  {
   "cell_type": "code",
   "execution_count": null,
   "id": "9879d3c4",
   "metadata": {},
   "outputs": [],
   "source": [
    "# Diese Zeile müssen Sie in jeder Umgebung ausführen, um die Bibliothek zu importieren. \n",
    "from pjnturtle.turtle import Turtle\n",
    "\n",
    "turtle = Turtle()"
   ]
  },
  {
   "cell_type": "markdown",
   "id": "1801a87d",
   "metadata": {},
   "source": [
    "Die Befehle, die wir in diesem Notebook nutzen, sind:\n",
    "\n",
    "| Befehl | Erklärung |\n",
    "|------------------------------|------------------|\n",
    "| `penUp` / `penDown`              | Stift hoch/runter | \n",
    "| `turnLeft` / `turnRight`                     | nach rechts / links drehen | \n",
    "| `forward` / `backward`   |  vorwärts, rückwärts gehen | \n",
    "| `penColor` | Farbe setzten | \n",
    "| `home` | Turtle auf Punkt (0, 0) setzten und nach Norden ausrichten |\n",
    "| `reset` | Zeichenfarbe und andere Attribute zurücksetzen | \n",
    "| `clear` | Zeichenfläche säubern | \n",
    "| `display` | Zeichnung anzeigen | \n",
    "| `drawTurtle` | Turtle an aktuelle Position zeichnen |\n",
    "| `fill` | Füllt die umliegende, geschlossene Figure mit Farbe aus. |"
   ]
  },
  {
   "cell_type": "markdown",
   "id": "5b8e27a2",
   "metadata": {},
   "source": [
    "### Strategie"
   ]
  },
  {
   "cell_type": "markdown",
   "id": "85b4f233",
   "metadata": {},
   "source": [
    "Das Problem, eine Stadt als Ganzes zu zeichnen, ist schwierig. Wir überlegen uns stattdessen zuerst, wie wir dieses Problem in kleinere Teile zerlegen können. Jeden Teil implementieren wir dann als eine Prozedur. Unser Ziel ist es, die Prozeduren allgemein zu schreiben, so dass wir sie in vielen unterschiedlichen Situationen einsetzen können. "
   ]
  },
  {
   "cell_type": "markdown",
   "id": "cb339e12",
   "metadata": {},
   "source": [
    "#### Miniübungen \n",
    "\n",
    "* Welche kleineren Probleme würden Sie lösen?\n",
    "* Überlegen Sie sich, was geeignete Prozeduren wären um diese kleineren Probleme zu lösen. \n",
    "    * Was ist der Name der Prozeduren?\n"
   ]
  },
  {
   "cell_type": "markdown",
   "id": "e0dde09a",
   "metadata": {},
   "source": [
    "### Schritt 1: Zeichnen der geometrischen Figuren"
   ]
  },
  {
   "cell_type": "markdown",
   "id": "5547b891",
   "metadata": {},
   "source": [
    "Die einfachsten Elemente für unsere Zeichung sind die geometrischen Formen *Dreieck* und *Rechteck*. Die einfachste Implementation sieht wie folgt aus:"
   ]
  },
  {
   "cell_type": "code",
   "execution_count": null,
   "id": "9a879a08",
   "metadata": {},
   "outputs": [],
   "source": [
    "def draw_rectangle(width, height):\n",
    "        \n",
    "    turtle.reset()\n",
    "    turtle.penDown()\n",
    "    turtle.forward(height)\n",
    "    turtle.turnRight(90)\n",
    "    turtle.forward(width)\n",
    "    turtle.turnRight(90)\n",
    "    turtle.forward(height)\n",
    "    turtle.turnRight(90)    \n",
    "    turtle.forward(width)\n",
    "    turtle.turnRight(90)\n",
    "    \n",
    "def draw_triangle(length):\n",
    "        \n",
    "    turtle.reset()       \n",
    "    turtle.penDown()\n",
    "    turtle.turnRight(30)\n",
    "    turtle.forward(length)\n",
    "    turtle.turnRight(120)\n",
    "    turtle.forward(length)\n",
    "    turtle.turnRight(120)\n",
    "    turtle.forward(length)\n",
    "    turtle.turnRight(120) \n",
    "\n",
    "turtle.home()    \n",
    "turtle.clear()\n",
    "draw_rectangle(100, 100)\n",
    "turtle.penUp()\n",
    "turtle.forward(100)\n",
    "turtle.penDown()\n",
    "draw_triangle(100)\n",
    "turtle.display()\n"
   ]
  },
  {
   "cell_type": "markdown",
   "id": "537e881c",
   "metadata": {},
   "source": [
    "### Miniübungen\n",
    "\n",
    "* Ergänzen Sie die beiden Prozeduren `draw_triangle` und `draw_rectangle` um die Argumente `x` und `y`, die uns erlauben eine bestimmte Position anzugeben, an der das Objekt gezeichent wird. Zeichnen Sie das Objekt dann an diese Stelle. \n",
    "* Gibt es Teile vom Code die Sie als nützliche Hilfsfunktionen abstrahieren könnten?\n",
    "* Können Sie die Rechtecke grau und die Dreiecke rot einfärben?\n"
   ]
  },
  {
   "cell_type": "code",
   "execution_count": null,
   "id": "b8444c90-2149-42d9-a8fa-890eb4ace7b4",
   "metadata": {},
   "outputs": [],
   "source": [
    "def goto(x, y):    \n",
    "    turtle.home()\n",
    "    turtle.forward(y)\n",
    "    turtle.turnRight(90)\n",
    "    turtle.forward(x)\n",
    "    turtle.turnLeft(90)\n",
    "    \n",
    "def draw_rectangle(x, y, width, height):\n",
    "        \n",
    "    turtle.reset()\n",
    "    turtle.penUp()\n",
    "    goto(x, y)\n",
    "    turtle.penDown()\n",
    "    turtle.forward(height)\n",
    "    turtle.turnRight(90)\n",
    "    turtle.forward(width)\n",
    "    turtle.turnRight(90)\n",
    "    turtle.forward(height)\n",
    "    turtle.turnRight(90)    \n",
    "    turtle.forward(width)\n",
    "    turtle.turnRight(90)    \n",
    "    \n",
    "    # fill\n",
    "    turtle.penUp();\n",
    "    turtle.turnRight(30)    \n",
    "    turtle.forward(2)\n",
    "    turtle.penColor('GREY')\n",
    "    turtle.fill()\n",
    "    \n",
    "def draw_triangle(x, y, length):\n",
    "        \n",
    "    turtle.reset()    \n",
    "\n",
    "    turtle.penUp()\n",
    "    goto(x, y)\n",
    "    \n",
    "    turtle.penDown()\n",
    "    turtle.turnRight(30)\n",
    "    turtle.forward(length)\n",
    "    turtle.turnRight(120)\n",
    "    turtle.forward(length)\n",
    "    turtle.turnRight(120)\n",
    "    turtle.forward(length)\n",
    "    turtle.turnRight(120) \n",
    "\n",
    "    \n",
    "    # fill\n",
    "    turtle.penUp();\n",
    "    turtle.turnRight(30)\n",
    "    turtle.forward(length / 2)\n",
    "    turtle.penColor('RED');\n",
    "    turtle.fill();\n",
    "\n",
    "    \n",
    "turtle.clear()\n",
    "draw_rectangle(-50, -100, 100, 100)\n",
    "draw_triangle(-50, 0, 100)\n",
    "turtle.display()"
   ]
  },
  {
   "cell_type": "markdown",
   "id": "6cf3e11d",
   "metadata": {},
   "source": [
    "### Schritt 2: Zeichnen von Häusern und Wolkenkratzern"
   ]
  },
  {
   "cell_type": "markdown",
   "id": "1f9f9bbf",
   "metadata": {},
   "source": [
    "Wir gehen nun in der Abstaktion einen Grad höher. Aus einem Rechteck und einem Dreieck können wir ein Haus zeichnen. Aus verschiedenen Rechtecken können wir einen Wolkenkratzer zeichnen. \n"
   ]
  },
  {
   "cell_type": "code",
   "execution_count": null,
   "id": "2312e876",
   "metadata": {},
   "outputs": [],
   "source": [
    "    \n",
    "# Um das Haus zu zeichnen nutzen wir ein Rechteck und ein Dreieck\n",
    "def draw_house(x, y, width, height):\n",
    "    draw_rectangle(x, y, width, height)\n",
    "    draw_triangle(x, y + height, width)\n",
    "    return\n",
    "\n",
    "def draw_skyscraper(x, y, width, height, num_storeys):\n",
    "    i = 0\n",
    "    while i < num_storeys:\n",
    "        draw_rectangle(x, y + i * height, width, height)\n",
    "        i = i + 1\n",
    "    \n",
    "turtle.clear()    \n",
    "draw_house(-150, -150, 100, 100)\n",
    "draw_skyscraper(0, 0, 100, 20, 4)\n",
    "turtle.display()\n"
   ]
  },
  {
   "cell_type": "markdown",
   "id": "f88d8c31",
   "metadata": {},
   "source": [
    "#### Miniübung \n",
    "\n",
    "* Implementieren Sie Methoden `draw_house` und `draw_skyscraper`. "
   ]
  },
  {
   "cell_type": "markdown",
   "id": "df75cec1",
   "metadata": {},
   "source": [
    "### Kirchen und Flachdächer "
   ]
  },
  {
   "cell_type": "markdown",
   "id": "7b3c9ac1",
   "metadata": {},
   "source": [
    "Bisher sind unsere Häuser langweilig. Wir werden uns deshalb die Form der Dächer etwas genauer anschauen. Anstatt nur gleichseitige Dreiecke zuzulassen, erweitern wir unser Programm so, dass wir wir beliebige gleichschenklige Dreiecke zeichnen könenn. Dies erlaubt uns, auch neue Abstraktionen wie Kirchen, etc. einzuführen. Gleichzeitig können wir damit zeigen, dass nicht nur Prozeduren, sondern auch Funktionen einen wichtigen Platz in der Programmierung einnehmen. "
   ]
  },
  {
   "cell_type": "code",
   "execution_count": null,
   "id": "4dcabb6f",
   "metadata": {
    "scrolled": true
   },
   "outputs": [],
   "source": [
    "import math \n",
    "\n",
    "def draw_isosceles_triangle(x, y, length_base, height):\n",
    "        turtle.home()\n",
    "        turtle.reset()\n",
    "        \n",
    "        # Move to right place\n",
    "        turtle.penUp()\n",
    "        turtle.turnRight(90)\n",
    "        turtle.forward(x)\n",
    "        turtle.turnLeft(90)        \n",
    "        turtle.forward(y)        \n",
    "        turtle.penDown()\n",
    "        \n",
    "        # compute leg and base angle\n",
    "        length_leg = math.sqrt(length_base / 2 * length_base / 2 + height * height)                \n",
    "        base_angle = compute_base_angle(length_base, length_leg)        \n",
    "        vertex_angle = 180 - 2 * base_angle\n",
    "        \n",
    "        # Draw triangle\n",
    "        turtle.penDown()\n",
    "        turtle.turnRight(90)\n",
    "        turtle.forward(length_base)\n",
    "        turtle.turnLeft(180 - base_angle)\n",
    "        turtle.forward(length_leg)\n",
    "        turtle.turnLeft(180 - vertex_angle)\n",
    "        turtle.forward(length_leg)    \n",
    "    \n",
    "        # fill\n",
    "        turtle.penUp();\n",
    "        turtle.turnLeft(180 - base_angle + base_angle / 2)\n",
    "        turtle.forward(length_base / 2)\n",
    "        turtle.penColor('RED');\n",
    "        turtle.fill();    \n",
    "    \n",
    "def compute_base_angle(length_base, length_leg):\n",
    "    return rad_to_degree(math.acos((length_base / 2) / length_leg))\n",
    "    \n",
    "def rad_to_degree(rad):\n",
    "    return rad / (2 * math.pi) * 360    \n",
    "\n",
    "turtle.home()\n",
    "turtle.clear()\n",
    "turtle.reset()\n",
    "turtle.penDown()\n",
    "turtle.drawTurtle()\n",
    "draw_isosceles_triangle(-0, 0, 140, 200)\n",
    "turtle.display()\n",
    "    \n"
   ]
  },
  {
   "cell_type": "markdown",
   "id": "038c1606",
   "metadata": {},
   "source": [
    "#### Miniübung\n",
    "\n",
    "* Implementieren Sie nun eine Prozedur, um eine Kirche zu zeichnen"
   ]
  },
  {
   "cell_type": "code",
   "execution_count": null,
   "id": "cd0b360a",
   "metadata": {},
   "outputs": [],
   "source": [
    "def draw_church(x, y, width, height):\n",
    "    width_ship = width * 4 / 5\n",
    "    width_tower = width / 5\n",
    "    height_tower = height * 2\n",
    "    height_roof = height\n",
    "    draw_rectangle(x, y, width_ship, height)\n",
    "    draw_rectangle(x + width_ship, y, width_tower, height_tower)\n",
    "    draw_isosceles_triangle(x + width_ship, y + height_tower, width_tower, height_roof)\n",
    "\n",
    "turtle.clear()\n",
    "draw_church(0, 0, 200, 100)\n",
    "\n",
    "turtle.display()"
   ]
  },
  {
   "cell_type": "markdown",
   "id": "5f820208",
   "metadata": {},
   "source": [
    "### Die fertige Stadt"
   ]
  },
  {
   "cell_type": "markdown",
   "id": "63b46f3b",
   "metadata": {},
   "source": [
    "Mit diesen Methoden können wir nun beliebig komplexe Städte zeichnen. Eine mögliche Lösung ist nachfolgend gezeigt. "
   ]
  },
  {
   "cell_type": "code",
   "execution_count": null,
   "id": "e9da0402",
   "metadata": {},
   "outputs": [],
   "source": [
    "turtle.clear();\n",
    "draw_church(-500, 0, 150, 80);\n",
    "draw_house(-300, 0, 100, 50);\n",
    "draw_house(-200, 0, 100, 80);\n",
    "draw_house(-100, 0, 100, 80);\n",
    "draw_skyscraper(250, 0, 100, 40, 5);\n",
    "draw_skyscraper(25, 0, 150, 30, 9);\n",
    "turtle.display();          \n"
   ]
  },
  {
   "cell_type": "code",
   "execution_count": null,
   "id": "6786eefb",
   "metadata": {},
   "outputs": [],
   "source": []
  }
 ],
 "metadata": {
  "kernelspec": {
   "display_name": "Python [conda env:standard]",
   "language": "python",
   "name": "conda-env-standard-py"
  },
  "language_info": {
   "codemirror_mode": {
    "name": "ipython",
    "version": 3
   },
   "file_extension": ".py",
   "mimetype": "text/x-python",
   "name": "python",
   "nbconvert_exporter": "python",
   "pygments_lexer": "ipython3",
   "version": "3.8.13"
  }
 },
 "nbformat": 4,
 "nbformat_minor": 5
}
