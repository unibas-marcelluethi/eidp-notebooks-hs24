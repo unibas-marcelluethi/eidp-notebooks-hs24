{
 "cells": [
  {
   "cell_type": "markdown",
   "metadata": {},
   "source": [
    "# Übungsblatt Woche 3: Kontrollstrukturen"
   ]
  },
  {
   "cell_type": "markdown",
   "metadata": {
    "deletable": false
   },
   "source": [
    "*Schreiben Sie in dieses Feld Ihren Vornamen, Namen und Email-Adresse.*"
   ]
  },
  {
   "cell_type": "markdown",
   "metadata": {},
   "source": [
    "### Allgemeine Hinweise\n",
    "\n",
    "* Bitte beachten Sie, dass Sie die vorgegebenen Ausgaben zeichengenau reproduzieren müssen (inkl. Gross und Kleinschreibung), da ansonsten das Korrekturtool Ihre Abgabe eventuell als Falsch bewertet.\n",
    "* In den Übungsaufgaben werden Zuweisungen vorgegeben. Sie können/sollen zu Testzwecken die Werte der Zuweisung ändern, dürfen aber weder den Variablennamen ändern noch den Kommentar nach der Zuweisung löschen, da diese vom Korrekturtool verwendet werden. "
   ]
  },
  {
   "cell_type": "markdown",
   "metadata": {
    "deletable": false
   },
   "source": [
    "#### Aufgabe 1: Intervall  (1 Punkt)\n",
    "\n",
    "Schreiben sie ein Programm, welches eine Zahl ```x``` prüft ob diese entweder im Intervall 1 bis 10 oder zwischen 100 und 110 liegt, wobei die Intervallgrenzen zum Intervall gehören sollen.\n",
    "Falls die Zahl in einem der Intervalle liegt soll das Programm ```Ok!``` und im andren Fall ```ausserhalb!``` ausgeben."
   ]
  },
  {
   "cell_type": "code",
   "execution_count": null,
   "metadata": {
    "deletable": false,
    "exercise_id": 1
   },
   "outputs": [],
   "source": [
    "x = 11 # Zuweisung-x! - Bitte diesen Kommentar nicht entfernen oder verändern\n",
    "\n",
    "# Ihre Lösung\n"
   ]
  },
  {
   "cell_type": "markdown",
   "metadata": {},
   "source": [
    "#### Aufgabe 2: Gerade oder ungerade (1 Punkte)\n",
    "\n",
    "Eine ganze Zahl heißt gerade, wenn sie ohne Rest durch zwei teilbar ist. Schreiben sie ein Programm, welches prüft ob der Wert einer Variablen ```x``` eine gerade oder ungerade Zahl ist. Falls ```x``` gerade ist soll das Programm ```x ist gerade!``` oder im anderen Fall ```x ist ungerade!``` ausgeben, wobei ```x``` durch den Wert der Variablen ```x``` ersetzt werden soll.\n",
    "\n",
    "*Hinweis: Sie brauchen für die Lösung der Aufgabe den Modulo Operator ```%```*"
   ]
  },
  {
   "cell_type": "code",
   "execution_count": null,
   "metadata": {
    "deletable": false,
    "exercise_id": 2
   },
   "outputs": [],
   "source": [
    "x = 1 # Zuweisung-x! - Bitte diesen Kommentar nicht entfernen oder verändern\n",
    "\n",
    "# Ihre Lösung\n"
   ]
  },
  {
   "cell_type": "markdown",
   "metadata": {},
   "source": [
    "#### Aufgabe 3: Vergleiche (2 Punkte)\n",
    "\n",
    "\n",
    "Schreiben sie ein Programm welches die Werte von drei Zahlen ```a```,```b```,```c``` vergleicht und den Text ```True``` ausgibt falls eine der drei Zahlen grösser ist als die Summe der beiden anderen. Andernfalls soll dasProgramm den Text ```False``` ausgeben."
   ]
  },
  {
   "cell_type": "code",
   "execution_count": null,
   "metadata": {
    "deletable": false,
    "exercise_id": 3
   },
   "outputs": [],
   "source": [
    "a = 10 # Zuweisung-a! - Bitte diesen Kommentar nicht entfernen oder verändern\n",
    "b = 6  # Zuweisung-b! - Bitte diesen Kommentar nicht entfernen oder verändern\n",
    "c = 4  # Zuweisung-c! - Bitte diesen Kommentar nicht entfernen oder verändern\n",
    "\n",
    "# Ihre Lösung\n"
   ]
  },
  {
   "cell_type": "markdown",
   "metadata": {},
   "source": [
    "#### Aufgabe 4 (2 Punkte) \n",
    "Schreiben sie ein Programm welches ein Schachbrettmuster aus den Grossbuchstaben ```O```  und dem ```X```  erzeugt. Es soll aus ```n``` Zeilen mit jeweils ```n``` Zeichen bestehen. \n",
    "Das erste Zeichen in der ersten Zeile soll der Buchstabe ```X``` sein. \n",
    "\n",
    "Beispiel: Ein Schachbrett für n = 4 würde wie folgt aussehen:\n",
    "```\n",
    "XOXO\n",
    "OXOX\n",
    "XOXO\n",
    "OXOX\n",
    "```\n",
    "\n",
    "Hinweise: \n",
    "* Nutzen Sie zwei ineinander verschachtelte Schleifen sowie den Modulo-Operator, um zu entscheiden, ob Sie ein `X` oder ein `O` ausgeben sollen. \n",
    "* Diese Aufgabe ist etwas kniffliger. Wenn Sie nicht gerade auf die Lösung kommen, versuchen Sie zuerst die anderen Aufgaben zu lösen. "
   ]
  },
  {
   "cell_type": "code",
   "execution_count": null,
   "metadata": {
    "deletable": false,
    "exercise_id": 4
   },
   "outputs": [],
   "source": [
    "n = 4  # Zuweisung-n! - Bitte diesen Kommentar nicht entfernen oder verändern\n",
    "\n",
    "# Ihre Lösung\n"
   ]
  },
  {
   "cell_type": "markdown",
   "metadata": {},
   "source": [
    "#### Aufgabe 5 (2 Punkte)\n",
    "\n",
    "Berechnen sie die Summe aller ungeraden ganzen Zahlen von 1 bis und mit n und speichern sie das Ergebnis in der Variablen ```sum```.  \n",
    "Geben sie den Text ```Die Summe beträgt: SUM``` aus, wobei Sie `SUM` mit ihrem Resultat ersetzen.\n",
    "\n",
    "*Hinweis:* Testen Sie Ihren Code indem Sie `n` einmal auf eine grade und einmal auf eine ungerade Zahl setzen. Haben Sie die Zahl `n` berücksichtigt?"
   ]
  },
  {
   "cell_type": "code",
   "execution_count": null,
   "metadata": {
    "deletable": false,
    "exercise_id": 5
   },
   "outputs": [],
   "source": [
    "n = 2  # Zuweisung-n! - Bitte diesen Kommentar nicht entfernen oder verändern\n",
    "\n",
    "# Ihre Lösung\n"
   ]
  },
  {
   "cell_type": "markdown",
   "metadata": {
    "deletable": false
   },
   "source": [
    "#### Aufgabe 6 (2 Punkt)\n",
    "\n",
    "Berechen sie die Quersumme einer beliebigen ganzen positiven Zahl ```x```. Beispiel, die Quersumme von 4171 ist 13. Hinweis, die letzte Ziffer einer Zahl ergibt sich als Rest bei der Division durch 10 und die letzte Ziffer kann mit der ganzzahligen Division ohne Rest abgespaltern werden. \n",
    "\n",
    "Geben sie den Wert der Quersumme nach dem Text ```Die Quersumme beträgt: ``` in einer Zeile aus.\n",
    "\n",
    "*Hinweis: Sie brauchen für die Lösung der Aufgabe den Modulo Operator ```%```*"
   ]
  },
  {
   "cell_type": "code",
   "execution_count": null,
   "metadata": {
    "deletable": false,
    "exercise_id": 6
   },
   "outputs": [],
   "source": [
    "x = 4171876 # Zuweisung-x! - Bitte diesen Kommentar nicht entfernen oder verändern\n",
    "\n",
    "# Ihre Lösung\n"
   ]
  }
 ],
 "metadata": {
  "celltoolbar": "Edit Metadata",
  "exercise_series": "eidp",
  "kernelspec": {
   "display_name": "Python 3 (ipykernel)",
   "language": "python",
   "name": "python3"
  },
  "language_info": {
   "codemirror_mode": {
    "name": "ipython",
    "version": 3
   },
   "file_extension": ".py",
   "mimetype": "text/x-python",
   "name": "python",
   "nbconvert_exporter": "python",
   "pygments_lexer": "ipython3",
   "version": "3.8.16"
  },
  "notebook_id": 2,
  "toc": {
   "base_numbering": 1,
   "nav_menu": {},
   "number_sections": false,
   "sideBar": false,
   "skip_h1_title": false,
   "title_cell": "Table of Contents",
   "title_sidebar": "Contents",
   "toc_cell": false,
   "toc_position": {},
   "toc_section_display": false,
   "toc_window_display": false
  }
 },
 "nbformat": 4,
 "nbformat_minor": 4
}
