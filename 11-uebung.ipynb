{
 "cells": [
  {
   "cell_type": "markdown",
   "metadata": {},
   "source": [
    "# Übungsblatt Woche 11"
   ]
  },
  {
   "cell_type": "markdown",
   "metadata": {
    "deletable": false
   },
   "source": [
    "*Schreiben Sie in dieses Feld Ihren Vornamen, Namen und Matrikelnummer.*"
   ]
  },
  {
   "cell_type": "markdown",
   "metadata": {
    "deletable": false
   },
   "source": [
    "#### Uebung 1: Adressbuch (6 Punkte)\n",
    "\n",
    "Gegeben ist eine Klasse Adressbuch, welche folgende Informationen speichert: ```firstname```, ```lastname```, ```phonenumber```. `firstname`, `lastname` und `phonenumber` sollen vom Typ String sein.\n",
    "\n",
    "Implementieren Sie die fehlenden Methoden:\n",
    "\n",
    "* Die Methode ```add_person``` soll eine Person zum Adressbuch hinzufügen. \n",
    "* Die Methode ```get_all_entries``` soll alle Einträge als Liste von Tupel der Form \n",
    "\n",
    "```[(firstname1, lastname1, phonenumber1), ..., (firstnameN, lastnameN, phonenumberN)]``` \n",
    "\n",
    "zurückgeben. \n",
    "* Die Methode ```lookup_phonenumber``` soll für eine Person mit gegebenen Vornamen und Nachnamen die Telefonnummer zurückgeben. Falls diese nicht gefunden wird soll ```None``` zurückgegeben werden.\n",
    "* Die Methode ```lookup_person_for_phonenumber``` soll für eine angegebene Telefonnumer den Vornamen und Nachnamen (als Tupel) zurückgeben. Wenn diese nicht gefunden wird, soll ```None``` zurückgegeben werden. \n",
    "\n",
    "Sie dürfen frei wählen, mit welcher Datenstruktur Sie die Daten im Adressbuch speichern. Wir empfehlen aber ein Dictionary. Sie dürfen annehmen, dass der Vorname und Nachnahme zusammen die Person (und damit Telefonnummer) eindeutig bestimmt.  \n"
   ]
  },
  {
   "cell_type": "code",
   "execution_count": 5,
   "metadata": {
    "deletable": false,
    "exercise_id": 1
   },
   "outputs": [],
   "source": [
    "class Addressbook:\n",
    "\n",
    "    def __init__(self):\n",
    "        \n",
    "        # Fügen Sie hier die Attribute hinzu, die Sie brauchen um \n",
    "        # die Daten zu verwalten\n",
    "        pass\n",
    "    \n",
    "    def add_person(self, firstname, lastname, phonenumber):\n",
    "        pass\n",
    "   \n",
    "    def get_all_entries(self): \n",
    "        pass\n",
    "    \n",
    "    def lookup_phonenumber(self, firstname, lastname):\n",
    "        pass\n",
    "   \n",
    "    def lookup_person_for_phonenumber(self, phonenumber):\n",
    "        pass\n",
    "    "
   ]
  },
  {
   "cell_type": "markdown",
   "metadata": {},
   "source": [
    "\n",
    "#### Uebung 2: Wörter Zählen (2 Punkte)\n",
    "\n",
    "Implementieren Sie die Funktion ```word_frequency```, welche einen Text entgegennimmt und die im Text vorkommenden Worte sowie deren Häufigkeit zurückgibt. Nutzen Sie dazu ein Dictionary (wobei die Wörter die Schlüssel sind). \n",
    "\n",
    "Tipps: \n",
    "* Nutzen Sie die Methode ```split``` um einen Text in Worte zu teilen. Split wird wie folgt verwenden: ```\"wort1 wort2 wort3\".split()``` gibt die Liste ```[\"wort1\", \"wort2\", \"wort3\"]``` zurück. "
   ]
  },
  {
   "cell_type": "code",
   "execution_count": 1,
   "metadata": {
    "deletable": false,
    "exercise_id": 2
   },
   "outputs": [],
   "source": [
    "def word_frequency(text):\n",
    "    pass\n",
    "\n",
    "# Der folgende Aufruf sollte {'Der': 1, 'Mond': 1, 'und': 1, 'der': 1, 'Hase': 1} zurückgeben\n",
    "# word_frequency(\"Der Mond und der Hase\")"
   ]
  },
  {
   "cell_type": "markdown",
   "metadata": {},
   "source": [
    "#### Übung 3: Anagramm (2 Punkte)\n",
    "\n",
    "Implementieren Sie die Funktion ```is_anagram```, welche zwei Wörter entgegennimmt und prüft ob das eine Wort ein Anagram des anderen ist, also ob es sich aus denselben Buchstaben bilden lässt. Wenn es sich um ein Anagramm handelt soll ```True``` und ansonsten ```False``` zurückgegeben werden. \n",
    "\n",
    "Beispiele von Anagrammen:\n",
    "\n",
    "* AXEL, ALEX\n",
    "* MEHL, HELM\n",
    "* AMPEL, LAMPE\n",
    "\n",
    "Hinweis: \n",
    "* Nutzen Sie die Funktion ```list(\"text\")``` um einen Text in eine Liste von Buchstaben zu konvertieren. \n",
    "* Zur Lösung der Aufgabe eignen sich zum Beispiel Dictionaries. \n"
   ]
  },
  {
   "cell_type": "code",
   "execution_count": null,
   "metadata": {
    "deletable": false,
    "exercise_id": 3
   },
   "outputs": [],
   "source": [
    "def is_anagram(word1, word2):\n",
    "    pass\n",
    "           "
   ]
  },
  {
   "cell_type": "code",
   "execution_count": null,
   "metadata": {},
   "outputs": [],
   "source": []
  }
 ],
 "metadata": {
  "celltoolbar": "Edit Metadata",
  "exercise_series": "eidp",
  "kernelspec": {
   "display_name": "Python 3 (ipykernel)",
   "language": "python",
   "name": "python3"
  },
  "language_info": {
   "codemirror_mode": {
    "name": "ipython",
    "version": 3
   },
   "file_extension": ".py",
   "mimetype": "text/x-python",
   "name": "python",
   "nbconvert_exporter": "python",
   "pygments_lexer": "ipython3",
   "version": "3.8.16"
  },
  "notebook_id": 10,
  "toc": {
   "base_numbering": 1,
   "nav_menu": {},
   "number_sections": false,
   "sideBar": false,
   "skip_h1_title": false,
   "title_cell": "Table of Contents",
   "title_sidebar": "Contents",
   "toc_cell": false,
   "toc_position": {},
   "toc_section_display": false,
   "toc_window_display": false
  }
 },
 "nbformat": 4,
 "nbformat_minor": 4
}
