{
 "cells": [
  {
   "cell_type": "markdown",
   "metadata": {},
   "source": [
    "# Übungsblatt Woche 10: Excel als Listen von Listen"
   ]
  },
  {
   "cell_type": "markdown",
   "metadata": {
    "deletable": false
   },
   "source": [
    "*Schreiben Sie in dieses Feld Ihren Vornamen, Namen und Matrikelnummer.*"
   ]
  },
  {
   "cell_type": "markdown",
   "metadata": {},
   "source": [
    "## Einführung\n",
    "\n",
    "In diesem Übungsblatt arbeiten Sie mit tabellarischen Daten, wie sie diese zum Beispiel aus Excel kennen. Wir simulieren eine Tabelle durch eine Liste von Listen. Die folgende Zelle im Jupyter-Notebook enthält Beispieldaten, mit denen Sie ihre Funktionen testen können. Wir simulieren hier eine Tabelle, welche die Punkte von Übungsabgaben von Studierenden enthält. Die äussere Liste enthält die einzelnen Zeilen. Jede Zeile ist dabei selber eine Liste, welche folgende Einträge enthält: \n",
    "\n",
    "*Vorname*, *Name*, *Punkte_1* und *Punkte_2*\n"
   ]
  },
  {
   "cell_type": "code",
   "execution_count": 3,
   "metadata": {},
   "outputs": [],
   "source": [
    "# Testdaten: Bitte Variablennamen nicht verändern. \n",
    "data = [\n",
    "    [\"Anna\", \"Muster\", 9, 8],\n",
    "    [\"Johan\", \"Altman\", 7, 1],\n",
    "    [\"Berta\", \"Anderegg\", 8, 10],\n",
    "    [\"Patrick\", \"Surfer\", 2, 2]\n",
    "]"
   ]
  },
  {
   "cell_type": "markdown",
   "metadata": {
    "deletable": false
   },
   "source": [
    "#### Uebung 1:  Zeile mit maximaler Anzahl Punkte (2 Punkte)\n",
    "\n",
    "Implementieren Sie eine Funktion, welche die Zeile mit der Person mit der maximalen Gesamtzahl an Punkten zurückgibt. \n",
    "\n",
    "*Hinweis:* Sie können davon ausgehen, dass das Maximum eindeutig ist. Sie müssen also immer nur eine Person zurückgeben. "
   ]
  },
  {
   "cell_type": "code",
   "execution_count": 9,
   "metadata": {
    "deletable": false,
    "exercise_id": 1
   },
   "outputs": [],
   "source": [
    "def row_with_max_points(table):\n",
    "    pass\n",
    "\n",
    "# Der folgende Aufruf sollte ['Berta', 'Anderegg', 8, 10] zurückgeben\n",
    "row_with_max_points(data)"
   ]
  },
  {
   "cell_type": "markdown",
   "metadata": {},
   "source": [
    "#### Uebung 2: Zeilen Filtern (2 Punkte)\n",
    "\n",
    "Implementieren Sie eine Funktion, welche eine Tabelle entgegennimmt und eine neue Tabelle zurückgibt, die alle Zeilen enthält, bei denen die Summe der Punkte insgesamt grösser oder gleich der angegebenen Punktzahl liegt."
   ]
  },
  {
   "cell_type": "code",
   "execution_count": 10,
   "metadata": {
    "deletable": false,
    "exercise_id": 2
   },
   "outputs": [],
   "source": [
    "def filter(table, number_of_points):\n",
    "    pass\n",
    "        \n",
    "    \n",
    "# Der folgende Aufruf sollte \n",
    "# [['Anna', 'Muster', 9, 8], \n",
    "#  ['Johan', 'Altman', 7, 1], \n",
    "#  ['Berta', 'Anderegg', 8, 10]] \n",
    "# zurückgeben\n",
    "filter(data, 6)"
   ]
  },
  {
   "cell_type": "markdown",
   "metadata": {},
   "source": [
    "\n",
    "#### Uebung 3: Punktedurchschnitt berechnen (2 Punkte)\n",
    "\n",
    "Implementieren Sie eine Funktion, die für die zwei letzten Spalten der Tabelle jeweils den Durchschnitt berechnet und diese Durchschnittswerte als Tupel zurückgibt. "
   ]
  },
  {
   "cell_type": "code",
   "execution_count": 12,
   "metadata": {
    "deletable": false,
    "exercise_id": 3
   },
   "outputs": [],
   "source": [
    "def average(table):\n",
    "    pass\n",
    "        \n",
    "    \n",
    "# Der folgende Aufruf sollte (6.5, 5.25) zurückgeben\n",
    "average(data)"
   ]
  },
  {
   "cell_type": "markdown",
   "metadata": {},
   "source": [
    "#### Übung 4: Mailing (2 Punkte)\n",
    "\n",
    "Schreiben Sie eine Funktion, die einen Text mit Platzhalter entgegennimmt, und aus den angegebenen Daten eine Massenmailing generiert. Als Platzhalter verwenden Sie geschweifte Klammer ```{}```. Beim Text sollen die Platzhalter durch die Daten in einer übergebenen Tabelle ersetzt werden. Der Rückgabewert soll eine Liste mit allen Texten sein."
   ]
  },
  {
   "cell_type": "code",
   "execution_count": 13,
   "metadata": {
    "deletable": false,
    "exercise_id": 4
   },
   "outputs": [],
   "source": [
    "def mailing(data, text):\n",
    "    pass\n",
    "\n",
    "mailing(data, \"Guten Tag {} {}, Sie haben in Übung 1 {} und in Übung 2 {} Punkte erreicht\")\n",
    "\n",
    "# Der folgende Aufruf sollte folgende Liste zurückgeben\n",
    "#\n",
    "# ['Guten Tag Anna Muster, Sie haben in Übung 1 9 und in Übung 2 8 Punkte erreicht',\n",
    "#  'Guten Tag Johan Altman, Sie haben in Übung 1 7 und in Übung 2 1 Punkte erreicht',\n",
    "#  'Guten Tag Berta Anderegg, Sie haben in Übung 1 8 und in Übung 2 10 Punkte erreicht',\n",
    "#  'Guten Tag Patrick Surfer, Sie haben in Übung 1 2 und in Übung 2 2 Punkte erreicht']"
   ]
  },
  {
   "cell_type": "markdown",
   "metadata": {},
   "source": [
    "#### Uebung 5: Export (2 Punkte)\n",
    "\n",
    "Implementieren Sie eine Funktion ```export```, welche die Tabelle ins CSV Format konvertiert. Das heisst, die Felder sollen jeweils durch Komma getrennt sein, während die einzelnen Zeilen  durch das spezielle Zeichen ```\\n``` getrennt werden. (Anmerkung, das Zeichen ```\\n``` steht für einen Zeilenumbruch).\n"
   ]
  },
  {
   "cell_type": "code",
   "execution_count": 14,
   "metadata": {
    "deletable": false,
    "exercise_id": 5
   },
   "outputs": [],
   "source": [
    "def export(data):\n",
    "    pass\n",
    "\n",
    "# Der folgende Aufruf sollte folgendes zurückgeben\n",
    "# 'Anna, Muster, 9, 8\\nJohan, Altman, 7, 1\\nBerta, Anderegg, 8, 10\\nPatrick, Surfer, 2, 2\\n'\n",
    "export(data)\n"
   ]
  }
 ],
 "metadata": {
  "celltoolbar": "Edit Metadata",
  "exercise_series": "eidp",
  "kernelspec": {
   "display_name": "Python 3 (ipykernel)",
   "language": "python",
   "name": "python3"
  },
  "language_info": {
   "codemirror_mode": {
    "name": "ipython",
    "version": 3
   },
   "file_extension": ".py",
   "mimetype": "text/x-python",
   "name": "python",
   "nbconvert_exporter": "python",
   "pygments_lexer": "ipython3",
   "version": "3.8.16"
  },
  "notebook_id": 9,
  "toc": {
   "base_numbering": 1,
   "nav_menu": {},
   "number_sections": false,
   "sideBar": false,
   "skip_h1_title": false,
   "title_cell": "Table of Contents",
   "title_sidebar": "Contents",
   "toc_cell": false,
   "toc_position": {},
   "toc_section_display": false,
   "toc_window_display": false
  }
 },
 "nbformat": 4,
 "nbformat_minor": 4
}
