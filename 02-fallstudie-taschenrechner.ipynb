{
 "cells": [
  {
   "cell_type": "markdown",
   "metadata": {},
   "source": [
    "# Fallstudie: Python als Taschenrechner"
   ]
  },
  {
   "cell_type": "markdown",
   "metadata": {},
   "source": [
    "In dieser Fallstudie zeigen wir, wie wir Python als Taschenrechner nutzen können. Dabei werden wir sehen, dass Python weit mehr kann als ein herkömmlicher Taschenrechner. Wir können nämlich unsere Berechnungen so schreiben, dass diese übersichtlich und wiederverwendbar werden. "
   ]
  },
  {
   "cell_type": "markdown",
   "metadata": {},
   "source": [
    "#### Thema: Der klassische Taschenrechner. \n",
    "\n",
    "Ihre Aufgabe ist es, die Fläche eines Kreissektors mit Mittelpunkswinkel 90 Grad für den Radius 5 zu berechnen und das Resultat auszugeben. Die einfachste Variante, ist die bekannte Formel $A = r^2 \\pi$ für die Kreisfläche zu nutzen und dann den entsprechenden Anteil zu nehmen. Folgende Berechnung bringt uns auf das richtige Resultat:"
   ]
  },
  {
   "cell_type": "code",
   "execution_count": null,
   "metadata": {},
   "outputs": [],
   "source": []
  },
  {
   "cell_type": "markdown",
   "metadata": {},
   "source": [
    "#### Variation 1: Die Formel\n",
    "\n",
    "In obiger Schreibweise ist die Formel kaum mehr im Programm ersichtlich. Dies macht das Programmm für andere schwer nachvollziehbar. Auch müssen wir sicherstellen, dass wir die Variablen konsistent ändern, wenn wir die Berechnung für einen anderen Mittelpunktswinkel oder Radius berechnen wollen. \n",
    "In Python können wir aber mit Variablen arbeiten. Damit sieht es gleich viel besser aus."
   ]
  },
  {
   "cell_type": "code",
   "execution_count": null,
   "metadata": {},
   "outputs": [],
   "source": []
  },
  {
   "cell_type": "markdown",
   "metadata": {},
   "source": [
    "#### Variation 2: Ein leserliches Programm\n",
    "\n",
    "In Python müssen wir nicht nur unleserliche Variablen mit 1 Buchstaben schreiben, sondern können auch Wörter als Variablennamen benutzen. Dies macht das Programm gleich lesbarer. Zudem können wir Kommentare nutzen um Dinge, die den Lesenden noch mitgeteilt werden sollen zu dokumentieren. Es hilft auch, Zwischenresultate zu speichern und explizit zu benennen."
   ]
  },
  {
   "cell_type": "code",
   "execution_count": null,
   "metadata": {},
   "outputs": [],
   "source": []
  },
  {
   "cell_type": "markdown",
   "metadata": {},
   "source": [
    "#### Variation 3: Nutzen der Python Mathematikfunktionen\n",
    "\n",
    "Python stellt uns bereits sehr viele Mathematische Funktionen und Definitionen zur Verfügung, die wir für unsere Berechnungen nutzen können. Diese sind in der [Dokumentation](https://docs.python.org/3/library/math.html) aufgelistet und kurz beschrieben. So sehen wir, dass bereits eine Variable pi definiert ist. Auch gibt es eine Funktion um zu potenzieren. Um Mathefunktionen zu nutzen, müssen wir diese erst importieren. Das machen wir mit der Anweisung ```import math```. Danach stehen uns alle Funktionen über ```math.FunktionsName``` zur Verfügung. "
   ]
  },
  {
   "cell_type": "code",
   "execution_count": null,
   "metadata": {},
   "outputs": [],
   "source": []
  },
  {
   "cell_type": "markdown",
   "metadata": {},
   "source": [
    "Durch die guten Strukturierungsmöglichkeiten und der Vielfalt an vordefinierten Funktionen können wir nun auch Berechnungen schreiben, die sehr viel komplexer sind als dies mit einem herkömmlichen Taschenrechner möglich wäre. Wie wir später sehen werden, können wir zudem auch unsere eigenen Funktionen definieren und haben auch mächtige Werkzeuge zum Visualisieren zur Verfügung. "
   ]
  }
 ],
 "metadata": {
  "celltoolbar": "Edit Metadata",
  "kernelspec": {
   "display_name": "Python 3 (ipykernel)",
   "language": "python",
   "name": "python3"
  },
  "language_info": {
   "codemirror_mode": {
    "name": "ipython",
    "version": 3
   },
   "file_extension": ".py",
   "mimetype": "text/x-python",
   "name": "python",
   "nbconvert_exporter": "python",
   "pygments_lexer": "ipython3",
   "version": "3.8.16"
  },
  "notebook_id": 1,
  "toc": {
   "base_numbering": 1,
   "nav_menu": {},
   "number_sections": false,
   "sideBar": false,
   "skip_h1_title": false,
   "title_cell": "Table of Contents",
   "title_sidebar": "Contents",
   "toc_cell": false,
   "toc_position": {},
   "toc_section_display": false,
   "toc_window_display": false
  }
 },
 "nbformat": 4,
 "nbformat_minor": 4
}
