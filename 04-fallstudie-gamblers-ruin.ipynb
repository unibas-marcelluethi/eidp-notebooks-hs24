{
 "cells": [
  {
   "cell_type": "markdown",
   "metadata": {},
   "source": [
    "# Der Ruin des Spielers\n",
    "\n",
    "\n",
    "In dieser Fallstudie studieren wir unsere Gewinnchancen beim Spielen im Casino. Insbesondere wollen wir am Ende folgende Frage beantworten können:\n",
    "\n",
    "> Angenommen wir gehen mit einem bestimmten Anfangsbudget ins Casino und unser Ziel ist es, einen bestimmten Zielbetrag zu erreichen. Dabei setzen wir jeweils immer einen fixen Betrag. Was ist die Wahrscheinlichkeit, dass wir gewinnen (d.h. den Zielbetrag erreichen) und was ist die Wahrscheinlichkeit, dass wir dabei Bankrott gehen?\n",
    "\n",
    "Dabei werden wir sehen, wie uns Funktionen und Prozeduren helfen, eine Aufgabe zu strukturieren. \n",
    "Zudem lernen wir auch, wie wir in einer Simulation Zufallszahlen nutzen können. \n"
   ]
  },
  {
   "cell_type": "markdown",
   "metadata": {},
   "source": [
    "### Zufallszahlen generieren"
   ]
  },
  {
   "cell_type": "markdown",
   "metadata": {},
   "source": [
    "Jede Programmiersprache stellt uns Funktionalität zur Verfügung, um zufällige Zahlen zu generieren. Um zufällige Zahlen in Python zu generieren nutzen wir die Bibliothek ```random```, die wir aber zuerst importieren müssen. "
   ]
  },
  {
   "cell_type": "code",
   "execution_count": null,
   "metadata": {},
   "outputs": [],
   "source": [
    "import random"
   ]
  },
  {
   "cell_type": "markdown",
   "metadata": {},
   "source": [
    "Mithilfe der Funktion ```random.randint(a, b)``` können wir eine zufällige ganze Zahl im Interval $[a, b]$ generieren. \n",
    "Das Modul stellt auch viele weitere Funktionen zur Verfügung, die Sie in der [Dokumentation](https://python.readthedocs.io/en/stable/library/random.html) finden. Wir brauchen hier nur diese eine Funktion. "
   ]
  },
  {
   "cell_type": "code",
   "execution_count": null,
   "metadata": {},
   "outputs": [],
   "source": [
    "random.randint(0, 10)"
   ]
  },
  {
   "cell_type": "markdown",
   "metadata": {},
   "source": [
    "Wir sehen, dass wenn wir diese Funktion mehrmals ausführen, jedes Mal ein anderer Wert erzeugt wird. Mittels einer Schleife können wir auf diese Art viele verschiedene zufällige Werte generieren. "
   ]
  },
  {
   "cell_type": "code",
   "execution_count": null,
   "metadata": {},
   "outputs": [],
   "source": [
    "# Ihre Aufgabe: Nutzen Sie eine Schleife um Zufallszahlen zu erzeugen.\n",
    "# Variieren Sie auch die Argumente zu randint. Wie werden die Intervallgrenzen behandelt?"
   ]
  },
  {
   "cell_type": "markdown",
   "metadata": {},
   "source": [
    "### Ein Spiel simulieren"
   ]
  },
  {
   "cell_type": "markdown",
   "metadata": {},
   "source": [
    "Nun nutzen wir diese Zufallsfunktion um ein [Roulettespiel](https://de.wikipedia.org/wiki/Roulette) zu simulieren. Wir schreiben uns dafür eine Funktion. Diese bekommt als Argument unseren Einsatz, und gibt unseren Gewinn zurück. Was wir zurückbekommen ist zwei mal der Einsatz im Gewinnfall, oder 0 falls wir nicht gewinnen. Wir setzen dabei immer nur auf eine der Farben und schliessen nie andere Wetten ab.\n",
    "Da es keinen Unterschied für die Gewinnchancen macht ob wir auf Rot oder Schwarz setzen, bilden wir dies in unserer Funktion nicht ab. Wir implementieren nur die Tatsache, dass wir in 19 von 37 Fällen verlieren und in 18 gewinnen. "
   ]
  },
  {
   "cell_type": "code",
   "execution_count": null,
   "metadata": {},
   "outputs": [],
   "source": [
    "def play_game(bet): \n",
    "    # Ihre Lösung\n",
    "    return 0"
   ]
  },
  {
   "cell_type": "code",
   "execution_count": null,
   "metadata": {},
   "outputs": [],
   "source": [
    "play_game(5)"
   ]
  },
  {
   "cell_type": "markdown",
   "metadata": {},
   "source": [
    "### Der durchschnittliche Gewinn"
   ]
  },
  {
   "cell_type": "markdown",
   "metadata": {},
   "source": [
    "Die vielleicht einfachste, aber dennoch interessante Frage ist, wieviel Geld wir im Durchschnitt gewinnen. Bei diesem einfachen Spiel könnten wir dies noch ohne Programm überprüfen. Bei komplexeren Spielen ist es dann aber oft einfacher, eine Simulation zu schreiben. Wir wollen nun `n` Spiele mit dem immer gleichen Einsatz `bet` simulieren."
   ]
  },
  {
   "cell_type": "code",
   "execution_count": null,
   "metadata": {},
   "outputs": [],
   "source": [
    "def average_win_in_n_games(n, bet):\n",
    "    # Ihre Lösung\n",
    "    return 0"
   ]
  },
  {
   "cell_type": "markdown",
   "metadata": {},
   "source": [
    "Wir können nun überprüfen, dass wenn ```n``` gross wird, wir immer einen Verlust einfahren werden. Dies ist der Gewinn des Casinos. Je grösser die Anzahl Spieler, desto stabiler der Gewinn. "
   ]
  },
  {
   "cell_type": "code",
   "execution_count": null,
   "metadata": {},
   "outputs": [],
   "source": [
    "average_win_in_n_games(100000, 100)"
   ]
  },
  {
   "cell_type": "markdown",
   "metadata": {},
   "source": [
    "### Spielen mit Zielbetrag"
   ]
  },
  {
   "cell_type": "markdown",
   "metadata": {},
   "source": [
    "Statt auf ein einziges Spiel fokussieren wir uns nun auf eine Serie von Spielen. Dabei verwenden wir die folgende Strategie:\n",
    "- Wir spielen so lange weiter, bis wir einen bestimmten Zielbetrag erreicht haben.\n",
    "- Wenn wir aber kein Geld mehr haben, müssen wir aufhören zu spielen.\n",
    "\n",
    "Da wir schon die Funktion ```play_game``` geschrieben haben, können wir diese hier wiederverwenden. Wir nutzen diese Funktion als *black box*, d.h., wir müssen gar nicht wissen, wie die Funktion implementiert ist oder welches Spiel da eigentlich simuliert wird. Wichtig ist nur, dass wir wissen, wie wir die Funktion aufrufen und dass der Rückgabewert jeweils unser Gewinn oder Verlust ist.\n",
    "\n",
    "Die folgende Funktion soll dann `True` zurück geben wenn wir das Ziel erreicht haben oder `False` wenn wir bankkrott sind."
   ]
  },
  {
   "cell_type": "code",
   "execution_count": null,
   "metadata": {},
   "outputs": [],
   "source": [
    "def play_until_target_reached_or_ruined(initial_amount, bet, target_amount):\n",
    "    # Ihre Lösung\n",
    "    return False"
   ]
  },
  {
   "cell_type": "code",
   "execution_count": null,
   "metadata": {},
   "outputs": [],
   "source": [
    "play_until_target_reached_or_ruined(100, 10, 200)"
   ]
  },
  {
   "cell_type": "markdown",
   "metadata": {},
   "source": [
    "### Simulation - Was ist unsere Gewinnwahrscheinlichkeit?"
   ]
  },
  {
   "cell_type": "markdown",
   "metadata": {},
   "source": [
    "Zum Schluss schreiben wir uns eine Funktion, die uns eine Anzahl Versuche simuliert und dabei zählt, wie oft wir unser Ziel erreichen und wie oft wir bankrott gehen. Auch hier nutzen wir nun wieder die zuvor definierte Funktion."
   ]
  },
  {
   "cell_type": "code",
   "execution_count": null,
   "metadata": {},
   "outputs": [],
   "source": [
    "def count_wins_in_n_games(number_of_tries, initial_amount, bet_per_game, target_amount):\n",
    "    # Ihre Lösung\n",
    "    return 0"
   ]
  },
  {
   "cell_type": "markdown",
   "metadata": {},
   "source": [
    "Um die Gewinnwahrscheinlichkeit zu berechnen, müssen wir nur nur diese Funktion aufrufen und den Anteil an Gewinnen berechnen."
   ]
  },
  {
   "cell_type": "code",
   "execution_count": null,
   "metadata": {},
   "outputs": [],
   "source": [
    "number_of_games = 1000\n",
    "target_amount = 300\n",
    "initial_amount = 200\n",
    "bet = 10\n",
    "number_of_wins = count_wins_in_n_games(number_of_games, initial_amount, bet, target_amount)\n",
    "\n",
    "probability_to_win = number_of_wins / number_of_games\n",
    "probability_to_lose = (number_of_games - number_of_wins) / number_of_games\n",
    "expected_win = probability_to_win * (target_amount - initial_amount ) + probability_to_lose * (-initial_amount)\n",
    "print(\"Wahrscheinlichkeit zu gewinnen: \", probability_to_win)\n",
    "print(\"Wahrscheinlichkeit zu verlieren \", probability_to_lose)\n",
    "print(\"Erwarteter Gewinn \", expected_win)\n"
   ]
  },
  {
   "cell_type": "code",
   "execution_count": null,
   "metadata": {},
   "outputs": [],
   "source": []
  }
 ],
 "metadata": {
  "kernelspec": {
   "display_name": "Python 3 (ipykernel)",
   "language": "python",
   "name": "python3"
  },
  "language_info": {
   "codemirror_mode": {
    "name": "ipython",
    "version": 3
   },
   "file_extension": ".py",
   "mimetype": "text/x-python",
   "name": "python",
   "nbconvert_exporter": "python",
   "pygments_lexer": "ipython3",
   "version": "3.8.16"
  },
  "toc": {
   "base_numbering": 1,
   "nav_menu": {},
   "number_sections": false,
   "sideBar": false,
   "skip_h1_title": false,
   "title_cell": "Table of Contents",
   "title_sidebar": "Contents",
   "toc_cell": false,
   "toc_position": {},
   "toc_section_display": false,
   "toc_window_display": false
  }
 },
 "nbformat": 4,
 "nbformat_minor": 4
}
