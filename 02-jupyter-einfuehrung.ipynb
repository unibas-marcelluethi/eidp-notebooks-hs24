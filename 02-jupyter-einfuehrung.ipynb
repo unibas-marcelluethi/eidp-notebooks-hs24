{
 "cells": [
  {
   "cell_type": "markdown",
   "metadata": {
    "deletable": false,
    "slideshow": {
     "slide_type": "slide"
    }
   },
   "source": [
    "# Grundlagen von Jupyter Notebooks\n",
    "#### Marcel Lüthi, Patrick Schnider<br/>Departement Mathematik und Informatik, Universität Basel\n"
   ]
  },
  {
   "cell_type": "markdown",
   "metadata": {
    "deletable": false,
    "slideshow": {
     "slide_type": "fragment"
    }
   },
   "source": [
    "Dieses Notebook ist eine Einführung in Jupyter Notebooks (JNB). Sie lernen:\n",
    "- wie man JNBs bedient.\n",
    "- was Zellen sind, die Organisationseinheit von JNBs.\n",
    "- wie Zellen mit Hilfe von Markdown gestaltet werden können.\n",
    "- wie man in Zellen erste einfache Python-Programme schreibt."
   ]
  },
  {
   "cell_type": "markdown",
   "metadata": {
    "deletable": false,
    "slideshow": {
     "slide_type": "subslide"
    }
   },
   "source": [
    "### Grundlagen eines Jupyter-Notebooks"
   ]
  },
  {
   "cell_type": "markdown",
   "metadata": {
    "deletable": false,
    "slideshow": {
     "slide_type": "-"
    }
   },
   "source": [
    "Ein Jupyter Notebook ist:\n",
    "- Organisiert in Zellen.\n",
    "- Notizblock und Programmcode zugleich.\n",
    "- keine volle Programmierumgebung.\n",
    "- ein guter Platz um Dinge schnell und einfach auszuprobieren.\n",
    "- für Sie persönlich gespeichert in Ihrem Speicherplatz der Universität Basel."
   ]
  },
  {
   "cell_type": "markdown",
   "metadata": {
    "deletable": false,
    "slideshow": {
     "slide_type": "slide"
    }
   },
   "source": [
    "### Bedienung von Jupyter-Notebooks"
   ]
  },
  {
   "cell_type": "markdown",
   "metadata": {
    "deletable": false,
    "slideshow": {
     "slide_type": "-"
    }
   },
   "source": [
    "- Sie können den Stand Ihres Notebooks über das Menu `File` / `Save` oder mit der Schaltfläche &#128427; speichern.\n",
    "- Wenn eine Zelle Markiert ist, können Sie diese mit der &#9658; `Run` Schaltfläche ausführen.\n",
    "- Die aktuelle Zelle erkennt man jeweils daran, dass diese umrahmt ist.\n",
    "- Eine neue Zelle wird mit &#10010; unter der aktuellen Zelle eingefügt.\n",
    "- Eine aktive Zelle kann mit &#9988; ausgeschnitten werden."
   ]
  },
  {
   "cell_type": "markdown",
   "metadata": {
    "deletable": false,
    "slideshow": {
     "slide_type": "slide"
    }
   },
   "source": [
    "#### Mini-Übung\n",
    "* Speichern Sie das Notebook.\n",
    "* Fügen Sie eine Zelle nach dieser hier ein.\n",
    "* Schneiden Sie nur die neue Zelle wieder aus.\n",
    "* Wenn etwas kaputt geht, laden Sie das Notebook über das Menu `File` / `Revert to Checkpoint`"
   ]
  },
  {
   "cell_type": "markdown",
   "metadata": {
    "deletable": false,
    "slideshow": {
     "slide_type": "slide"
    }
   },
   "source": [
    "### Arbeiten mit Zellen"
   ]
  },
  {
   "cell_type": "markdown",
   "metadata": {
    "deletable": false
   },
   "source": [
    "- Es gibt zwei Arten von Zellen, **Code**-Zellen und **Text**-Zellen.\n",
    "- Es gibt zwei Zustände wenn Sie ein Notebook bearbeiten:\n",
    "    - **Editier**-Modus (Edit-Mode), um eine Zelle zu ändern.\n",
    "        - Aktiviert durch einen Doppelklick der Maus oder die `Enter`-Taste.\n",
    "    - **Befehl**-Modus (Command-Mode) um Zellen auszuführen, herumzuschieben, den Typ einer Zelle wechseln.\n",
    "        - Aktiviert durch die `Esc`-Taste, oder durch Ausführen einer Zelle `Ctrl`+`Enter`."
   ]
  },
  {
   "cell_type": "markdown",
   "metadata": {
    "deletable": false,
    "slideshow": {
     "slide_type": "slide"
    }
   },
   "source": [
    "### Code-Zellen\n",
    "- Code-Zellen erkennt man dadurch, dass diese mit ```[..]:``` gekennzeichnet sind.\n",
    "- Eine markierte Zelle wird durch `Y`-Taste oder über das Menu `Cell Type` / `Code` zu einer Code-Zelle.\n",
    "- Beim Ausführen der Zelle (&#9658; `Run`) wird der Python-Code übersetzt / kompiliert und ausgeführt.\n",
    "- Können beim Ausführen eine Ausgabe unterhalb der Zelle erzeugen."
   ]
  },
  {
   "cell_type": "markdown",
   "metadata": {
    "deletable": false,
    "slideshow": {
     "slide_type": "fragment"
    }
   },
   "source": [
    "Führen Sie die folgende Code-Zelle nun aus."
   ]
  },
  {
   "cell_type": "code",
   "execution_count": null,
   "metadata": {
    "deletable": false
   },
   "outputs": [],
   "source": [
    "print(\"hello eidp-students hs24\")"
   ]
  },
  {
   "cell_type": "markdown",
   "metadata": {},
   "source": [
    "#### Miniübungen\n",
    "\n",
    "* Führen Sie den Code in der Zelle oben aus\n",
    "* Ändern Sie den Code so, dass statt `hello`, `welcome` ausgegeben wird. \n",
    "* Ändern Sie das Programm so ab, dass der Text nun zweimal ausgegeben wird (kopieren Sie die Zeile)"
   ]
  },
  {
   "cell_type": "markdown",
   "metadata": {
    "deletable": false
   },
   "source": [
    "### Text- Zellen\n",
    "\n",
    "- Dienen als Script, Aufgabenstellungen, oder für Sie als **Notizen**.\n",
    "- Eine markierte Zelle wird durch `M`-Taste oder über das Menu `Cell Type` / `Markdown` zu einer Text-Zelle.\n",
    "- Werden \"schön\" dargestellt wenn Sie die Zellen ausführen.\n",
    "- Verwenden *Markdown* um den Text zu formatieren.\n",
    "- Schauen Sie sich die nächste Zelle an und führen Sie die Zelle dann aus."
   ]
  },
  {
   "cell_type": "markdown",
   "metadata": {
    "deletable": false,
    "slideshow": {
     "slide_type": "slide"
    }
   },
   "source": [
    "#### Beispiel\n",
    "\n",
    "Eine Markdown Zelle um Ihnen zu zeigen wie:\n",
    "- **toll**,\n",
    "- *schräg*,\n",
    "- und nützlich dies sein kann\n",
    "\n",
    "> Am Anfang besteht jedoch eine kleine Hürde die wichtigsten Sachen zu lernen. \n",
    "\n",
    "| Tabellen | Informationen |\n",
    "| --- | --- |\n",
    "| Zeilen | sind wichtig |"
   ]
  },
  {
   "cell_type": "markdown",
   "metadata": {
    "deletable": false,
    "slideshow": {
     "slide_type": "slide"
    }
   },
   "source": [
    "### Take-Home\n",
    "- Jupyter-Notebooks sind Ihr Spielplatz für Experimente mit Python.\n",
    "- Sie können das Notebook mit &#128427; speichern und später weiter bearbeiten.\n",
    "- &#9658; `Run` ist zum ausführen einer Zelle\n",
    "- &#10010; ist zum einfügen einer Zelle\n",
    "- Es gibt Code- und Text-Zellen"
   ]
  },
  {
   "cell_type": "markdown",
   "metadata": {
    "deletable": false,
    "slideshow": {
     "slide_type": "slide"
    }
   },
   "source": [
    "### Weitere Informationen\n",
    "\n",
    "- Eine Übersicht über die Syntax von Markdown finden Sie [hier](https://medium.com/analytics-vidhya/the-ultimate-markdown-guide-for-jupyter-notebook-d5e5abf728fd).\n",
    "- Eine Übersicht der Tastenkürzel finden Sie im Menu `Help` / `Keyboard Shortcuts`"
   ]
  }
 ],
 "metadata": {
  "kernelspec": {
   "display_name": "Python 3 (ipykernel)",
   "language": "python",
   "name": "python3"
  },
  "language_info": {
   "codemirror_mode": {
    "name": "ipython",
    "version": 3
   },
   "file_extension": ".py",
   "mimetype": "text/x-python",
   "name": "python",
   "nbconvert_exporter": "python",
   "pygments_lexer": "ipython3",
   "version": "3.8.16"
  },
  "toc": {
   "base_numbering": 1,
   "nav_menu": {},
   "number_sections": false,
   "sideBar": false,
   "skip_h1_title": false,
   "title_cell": "Table of Contents",
   "title_sidebar": "Contents",
   "toc_cell": false,
   "toc_position": {},
   "toc_section_display": false,
   "toc_window_display": false
  }
 },
 "nbformat": 4,
 "nbformat_minor": 4
}
