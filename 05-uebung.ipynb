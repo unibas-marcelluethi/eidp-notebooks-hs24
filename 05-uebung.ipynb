{
 "cells": [
  {
   "cell_type": "markdown",
   "metadata": {},
   "source": [
    "# Übungsblatt Woche 5: Vertiefen der Konzepte"
   ]
  },
  {
   "cell_type": "markdown",
   "metadata": {
    "deletable": false
   },
   "source": [
    "*Schreiben Sie in dieses Feld Ihren Vornamen, Namen und Email-Adresse.*"
   ]
  },
  {
   "cell_type": "markdown",
   "metadata": {},
   "source": [
    "### Allgemeine Hinweise\n",
    "\n",
    "* Bitte beachten Sie, dass Sie Namen der Prozeduren und Funktionen genau wie angegeben übernehmen. Auch müssen die vorgegebenen Ausgaben zeichengenau reproduzieren werden (inkl. Gross und Kleinschreibung), da ansonsten das Korrekturtool Ihre Abgabe eventuell als falsch bewertet."
   ]
  },
  {
   "cell_type": "markdown",
   "metadata": {
    "deletable": false
   },
   "source": [
    "#### Aufgabe 1: Fakultät (2 Punkte)\n",
    "\n",
    "Schreiben Sie eine Funktion ```factorial```, welche die Fakultätsfunktion mithilfe einer *while*-Schleife implementiert. Zur Erinnerung, die  Fakultätsfunktion $n!$ der positiven Ganzzahl $n$ ist definiert als:\n",
    "\n",
    "$n! = n \\cdot (n - 1) \\cdot \\ldots \\cdot 1$\n",
    "\n",
    "Beispiel: Der Aufruf ```factorial(5)``` sollte 120 ergeben. "
   ]
  },
  {
   "cell_type": "code",
   "execution_count": 9,
   "metadata": {
    "deletable": false,
    "exercise_id": 1
   },
   "outputs": [],
   "source": [
    "# Ihre Lösung"
   ]
  },
  {
   "cell_type": "markdown",
   "metadata": {},
   "source": [
    "#### Aufgabe 2: Taschenrechner (2 Punkte)\n",
    "\n",
    "Schreiben Sie eine Funktion ```calculator```, welche 3 Argumente entgegennimmt. Das erste ist ein Text, welchem einer der Werte ```+, -, *, /``` entsprechen muss. Das zweite und dritte Argument sind Zahlen, auf welche die im ersten Argument angegebene arithmetische Operation ausgeführt wird. Die Funktion soll den Wert der Berechnung zurückgeben.\n",
    "\n",
    "Beispiel: Der Aufruf ```calculator(\"-\", 5, 3)``` sollte den Wert 2 ergeben. "
   ]
  },
  {
   "cell_type": "code",
   "execution_count": null,
   "metadata": {
    "deletable": false,
    "exercise_id": 2
   },
   "outputs": [],
   "source": [
    "# Ihre Lösung"
   ]
  },
  {
   "cell_type": "markdown",
   "metadata": {},
   "source": [
    "#### Aufgabe 3: Fitze Fatze (2 Punkte)\n",
    "\n",
    "Schreiben Sie eine Funktion ```fitze_fatze```, welche als Argumente eine Zahl entgegennimmt. \n",
    "* Falls die Zahl durch 3 teilbar ist soll der Text *fitze* auf dem Bildschirm ausgegeben werden. \n",
    "* Falls die Zahl durch 5 teilbar ist, soll der Text *fatze* auf dem Bildschirm ausgegeben werden.\n",
    "* Falls die Zahl durch 3 und 5 teilbar ist, soll der Text *fitzefatze* auf dem Bildschirm ausgegeben werden.\n",
    "* In jedem Fall soll die Funktion die übergebene Zahl zurückgeben. \n",
    "\n",
    "Beispiele: \n",
    "* Der Aufruf `fitze_fatze(9)` sollte `fitze` ausgeben und 9 zurückgeben.\n",
    "* Der Aufruf `fitze_fatze(25)` sollte `fatze` ausgeben 25 zurückgeben.\n",
    "* Der Aufruf `fitze_fatze(15)` sollte `fitzefatze` 15 zurückgeben.\n",
    "\n",
    "*Hinweise:*\n",
    "* Verwenden Sie zur Ausgabe die normale ```print``` Anweisung ohne Angabe von ```end=\"\"```. Lösungen mit der Form\n",
    "  ```print(..., end=\"\")``` werden vom Korrekturtool aus technischen Gründen nicht als richtig erkannt. \n",
    "* Falls beim lösen dieses Übungsblatt etwas Frustration aufkommen sollte, empfehlen wir Ihnen das zur [Übung passende Lied](https://www.youtube.com/watch?v=neilsnaMI1U) zu hören."
   ]
  },
  {
   "cell_type": "code",
   "execution_count": null,
   "metadata": {
    "deletable": false,
    "exercise_id": 3
   },
   "outputs": [],
   "source": [
    "# Ihre Lösung"
   ]
  },
  {
   "cell_type": "markdown",
   "metadata": {},
   "source": [
    "#### Aufgabe 4: Primzahlen (2 Punkte)\n",
    "\n",
    "Schreiben Sie eine Funktion ```is_prime```, die ```True``` zurückgibt, falls eine der Funktion übergebene positive Zahl eine Primzahl ist. Ansonsten soll ```False``` zurückgegeben werden. "
   ]
  },
  {
   "cell_type": "code",
   "execution_count": null,
   "metadata": {
    "deletable": false,
    "exercise_id": 4
   },
   "outputs": [],
   "source": [
    "# Ihre Lösung"
   ]
  },
  {
   "cell_type": "markdown",
   "metadata": {},
   "source": [
    "#### Aufgabe 5: Integral einer Funktion (2 Punkte)\n",
    "\n",
    "Das Integral (d.h. die Fläche unter der Kurve) einer mathematischen Funktion $f$ in einem Interval $[a, b]$ spielt in der Mathmatik eine wichtige Rolle. Das Integral lässt sich schwer analytisch ausrechnen, aber ist ganz einfach zu approximieren. Man teilt das Interval in $n$ gleiche Teile der Grösse $\\Delta = (b - a) / n$ ein und berechnet dann Folgendes:\n",
    "$\n",
    "\\Delta \\cdot (f(a + \\Delta) + f(a + 2 \\cdot\\Delta)+\\cdots+f(a + n \\cdot \\Delta))\n",
    "$\n",
    "\n",
    "Schreiben Sie eine Funktion ```integrate(a, b, n)``` wobei das Argument ```a``` dem Start des Intervals, ```b``` das Ende des Intervals und ```n``` Intervallen entspricht. Die Funktion soll den Wert des Integrals der vorgegebenen Funktion $f$ wie oben beschrieben approximieren. Die Approximation wird besser, je grösser ```n``` ist. \n",
    "\n",
    "*Hinweise:*\n",
    "* Die Funktion $f(x)$ müssen Sie in der Funktion ```integrate``` aufrufen um die Funktionswerte an den verschiedenen Stellen zu erhalten. \n",
    "* Falls Sie auch andere Integrale testen wollen, aber nicht geübt sind von Hand zu integrieren, finden Sie [hier](https://www.integralrechner.de/) einen Integralrechner.\n",
    "\n",
    "\n",
    "* Beispiel: Der Aufruf ```integrate(0, 1, 1000)```  sollte ungefähr 3 ergeben. "
   ]
  },
  {
   "cell_type": "code",
   "execution_count": 2,
   "metadata": {
    "deletable": false,
    "exercise_id": 5
   },
   "outputs": [],
   "source": [
    "# Funktion, von der wir das Integral berechnen.\n",
    "# Bitte nicht verändern\n",
    "def f(x):\n",
    "    return 2 * x + 2 \n",
    "\n",
    "\n",
    "# Hier kommt Ihre Lösung hin"
   ]
  }
 ],
 "metadata": {
  "celltoolbar": "Edit Metadata",
  "exercise_series": "eidp",
  "kernelspec": {
   "display_name": "Python [conda env:python_eidp_env]",
   "language": "python",
   "name": "conda-env-python_eidp_env-py"
  },
  "language_info": {
   "codemirror_mode": {
    "name": "ipython",
    "version": 3
   },
   "file_extension": ".py",
   "mimetype": "text/x-python",
   "name": "python",
   "nbconvert_exporter": "python",
   "pygments_lexer": "ipython3",
   "version": "3.9.16"
  },
  "notebook_id": 4,
  "toc": {
   "base_numbering": 1,
   "nav_menu": {},
   "number_sections": false,
   "sideBar": false,
   "skip_h1_title": false,
   "title_cell": "Table of Contents",
   "title_sidebar": "Contents",
   "toc_cell": false,
   "toc_position": {},
   "toc_section_display": false,
   "toc_window_display": false
  }
 },
 "nbformat": 4,
 "nbformat_minor": 4
}
