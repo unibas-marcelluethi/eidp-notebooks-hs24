{
 "cells": [
  {
   "cell_type": "markdown",
   "metadata": {},
   "source": [
    "# Übungsblatt Woche 7: Strings"
   ]
  },
  {
   "cell_type": "markdown",
   "metadata": {
    "deletable": false
   },
   "source": [
    "*Schreiben Sie in dieses Feld Ihren Vornamen, Namen und Matrikelnummer.*"
   ]
  },
  {
   "cell_type": "markdown",
   "metadata": {},
   "source": [
    "## Einführung\n",
    "\n",
    "In dieser Übung werden sie mit Texten arbeiten. Nutzen Sie dazu die String -Funktionen, die in Woche 6 des Selbststudiums in [diesem Artikel](https://dmi-programming.dmi.unibas.ch/eidp/theory/strings) vorgestellt wurden. "
   ]
  },
  {
   "cell_type": "markdown",
   "metadata": {},
   "source": [
    "### Wichtige Hinweise\n",
    "\n",
    "* Das Schlüsselwort ```pass```, welches Sie in den Übungen finden, ist eine Python-Anweisung die nichts macht. Wir nutzen diese als Platzhalter, damit sich Python nicht über eine fehlende Implementation der Funktion beschwert. Ersetzen Sie die ```pass``` Anweisung einfach durch Ihre Implementation der Methode. \n",
    "* Sie dürfen keine externen Bibliotheken verwenden\n",
    "* Viele der von Ihnen implementierten Funktionen existieren bereits fertig implementiert in Python. Implementieren Sie die Funktionen aber selber, indem Sie for und while-Schleifen einsetzen. Damit lernen Sie viel mehr als wenn Sie die fertige Funktion einsetzen. "
   ]
  },
  {
   "cell_type": "markdown",
   "metadata": {
    "deletable": false
   },
   "source": [
    "#### Aufgabe 1:  Zeichen zählen (2 Punkte)\n",
    "\n",
    "Implementieren Sie die Funktion ```count_character``` welche zählt, wie häufig ein angegebenes Zeichen ```char``` im Text auftritt. \n"
   ]
  },
  {
   "cell_type": "code",
   "execution_count": null,
   "metadata": {
    "deletable": false,
    "exercise_id": 1
   },
   "outputs": [],
   "source": [
    "def count_character(text, char):\n",
    "    pass\n",
    "        \n",
    "# Der folgende Aufruf sollte 4 zurückgeben\n",
    "count_character(\"mississipi\", \"i\")"
   ]
  },
  {
   "cell_type": "markdown",
   "metadata": {},
   "source": [
    "#### Aufgabe 2: Palindrome (2 Punkte)\n",
    "\n",
    "Implementieren Sie eine Funktion ```is_palindrome``` welche prüft, ob es sich bei einem Wort um ein Palindrom handelt. Ein Palindrom ist ein Wort, welches von vorne und von hinten gelesen gleich ist. Sie dürfen annehmen, dass alle Zeichen entweder klein oder gross geschrieben sind, so dass Sie sich um Gross- und Kleinschreibung nicht kümmern müssen."
   ]
  },
  {
   "cell_type": "code",
   "execution_count": null,
   "metadata": {
    "deletable": false,
    "exercise_id": 2
   },
   "outputs": [],
   "source": [
    "def is_palindrome(word):\n",
    "    pass\n",
    "    \n",
    "# Der folgende Aufruf sollte True zurückgeben\n",
    "#is_palindrome(\"ANNA\")\n",
    "\n",
    "\n",
    "# Der folgende Aufruf gibt False zurück\n",
    "is_palindrome(\"berta\")\n"
   ]
  },
  {
   "cell_type": "markdown",
   "metadata": {},
   "source": [
    "#### Aufgabe 3: Finden von Teiltext (2 Punkte)\n",
    "\n",
    "Implementieren Sie eine Funktion ```contains```, welche als erstes Argument einen Text und als zweites Argument einen Teiltext entgegennimmt. Die Funktion soll ```True``` zurückgeben, falls der Teiltext im übergebenen Text vorkommt. Ansonsten soll ```False``` zurückgegeben werden. "
   ]
  },
  {
   "cell_type": "code",
   "execution_count": null,
   "metadata": {
    "deletable": false,
    "exercise_id": 3
   },
   "outputs": [],
   "source": [
    "def contains(text, text_part):\n",
    "    pass # Ihre Lösung\n",
    "\n",
    "# Der folgende Aufruf sollte True zurückgeben\n",
    "contains(\"Da muss ich nachdenken, sagte der Specht.\", \"Specht.\")\n",
    "\n",
    "# Der folgende Aufruf sollte False zurückgeben\n",
    "contains(\"Da muss ich nachdenken, sagte der Specht.\", \"Speck.\")"
   ]
  },
  {
   "cell_type": "markdown",
   "metadata": {},
   "source": [
    "#### Aufgabe 4: Prüfziffern berechnen (2 Punkte)\n",
    "\n",
    "Die Prüfziffer (zehnte Ziffer) der ISBN-Nummer eines Buches berechnet sich wie folgt:\n",
    "Man multipliziere die erste Ziffer mit eins, die zweite mit zwei, die dritte mit drei, und so weiter, bis zur neunten Ziffer, die mit neun multipliziert wird. Man addiere die Produkte und teile die Summe ganzzahlig mit Rest durch 11. Der Divisionsrest ist die Prüfziffer. Falls der Rest 10 beträgt, ist die Prüfziffer ein \"X\". Implementieren Sie eine Funktion ```check_digit``` welche für einen übergebenen ISBN Nummer die Prüfziffer berechnet. \n",
    "\n",
    "*Die Prüfziffer muss als Text (nicht als Zahl) zurückgegeben werden.* \n",
    "\n",
    "* Um einen als Text eingebenen Buchstaben zu einer Zahl umzuwandlen, nutzen Sie die Funktion ```int```. Zum Beispiel gibt ```int(\"9\")``` den Wert 9 zurück. \n",
    "* Um eine Zahl in einen Text umzuwandeln verwenden Sie die Funktion ```str```. Zum Beispiel gibt ```str(9)``` den Wert ```\"9\"``` zurück. \n",
    "\n"
   ]
  },
  {
   "cell_type": "code",
   "execution_count": null,
   "metadata": {
    "deletable": false,
    "exercise_id": 4
   },
   "outputs": [],
   "source": [
    "def check_digit(isbn_number):\n",
    "    pass\n",
    "\n",
    "# Der folgende Aufruf sollte den String \"6\" zurueckgeben\n",
    "#check_digit(\"137234590\")\n",
    "\n",
    "# Der folgende Aufruf sollte ein \"X\" zurückgeben\n",
    "check_digit(\"097522980\")"
   ]
  },
  {
   "cell_type": "markdown",
   "metadata": {},
   "source": [
    "#### Aufgabe 5: Text ersetzen (2 Punkte)\n",
    "\n",
    "Implementieren Sie die Funktion ```replace```, welche alle Instanzen eines angegebenen Zeichens in einem Text ersetzt. "
   ]
  },
  {
   "cell_type": "code",
   "execution_count": null,
   "metadata": {
    "deletable": false,
    "exercise_id": 5
   },
   "outputs": [],
   "source": [
    "def replace(text, char_to_replace, new_char):\n",
    "    pass \n",
    "\n",
    "# Der folgende Aufruf sollte \"uhu\" zurückgeben\n",
    "replace(\"oho\", \"o\", \"u\")"
   ]
  },
  {
   "cell_type": "code",
   "execution_count": null,
   "metadata": {},
   "outputs": [],
   "source": []
  }
 ],
 "metadata": {
  "celltoolbar": "Edit Metadata",
  "exercise_series": "eidp",
  "kernelspec": {
   "display_name": "Python 3 (ipykernel)",
   "language": "python",
   "name": "python3"
  },
  "language_info": {
   "codemirror_mode": {
    "name": "ipython",
    "version": 3
   },
   "file_extension": ".py",
   "mimetype": "text/x-python",
   "name": "python",
   "nbconvert_exporter": "python",
   "pygments_lexer": "ipython3",
   "version": "3.8.16"
  },
  "notebook_id": 6,
  "toc": {
   "base_numbering": 1,
   "nav_menu": {},
   "number_sections": false,
   "sideBar": false,
   "skip_h1_title": false,
   "title_cell": "Table of Contents",
   "title_sidebar": "Contents",
   "toc_cell": false,
   "toc_position": {},
   "toc_section_display": false,
   "toc_window_display": false
  }
 },
 "nbformat": 4,
 "nbformat_minor": 4
}
