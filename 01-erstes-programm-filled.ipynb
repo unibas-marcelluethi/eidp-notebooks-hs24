{
 "cells": [
  {
   "cell_type": "markdown",
   "metadata": {
    "deletable": false,
    "slideshow": {
     "slide_type": "slide"
    }
   },
   "source": [
    "# Unser erstes Programm mit Python\n",
    "#### Marcel Lüthi, Patrick Schnider<br/>Departement Mathematik und Informatik, Universität Basel\n"
   ]
  },
  {
   "cell_type": "markdown",
   "metadata": {
    "deletable": false,
    "slideshow": {
     "slide_type": "fragment"
    }
   },
   "source": [
    "In diesem (sehr kurzen) Notebook schreiben Sie ihr erstes Programm in Python. Das wichtigste Ziel hierbei ist es, dass Sie den Code in diesem Notebook in Jupyterhub kompilieren können."
   ]
  },
  {
   "cell_type": "markdown",
   "metadata": {
    "deletable": false,
    "slideshow": {
     "slide_type": "subslide"
    }
   },
   "source": [
    "Die Tradition verlangt, dass das erste Programm in einer neuen Programmiersprache die Worte \"Hello World!\" ausgibt. In Python können sie mit dem Befehl 'print()' Text ausgeben. Sie können das folgende Programm laufen lassen, indem Sie die Zelle anklicken und dann im Menu oben (&#9658; `Run`) drücken."
   ]
  },
  {
   "cell_type": "code",
   "execution_count": null,
   "metadata": {},
   "outputs": [],
   "source": [
    "print('Hello World!')"
   ]
  },
  {
   "cell_type": "markdown",
   "metadata": {},
   "source": [
    "Probieren Sie, das Programm so zu ändern, dass ein anderer Text ausgegeben wird. Was passiert wenn Sie die Anführungs- und Schlussstriche weglassen?"
   ]
  },
  {
   "cell_type": "markdown",
   "metadata": {
    "deletable": false,
    "slideshow": {
     "slide_type": "-"
    }
   },
   "source": [
    "Nächste Woche lernen Sie noch mehr über die Funktionalität von Jupyter-Notebooks."
   ]
  },
  {
   "cell_type": "markdown",
   "metadata": {
    "deletable": false,
    "slideshow": {
     "slide_type": "slide"
    }
   },
   "source": [
    "Zum Abschluss schauen wir uns noch ein anderes Programm an. Probieren Sie herauszufinden, was die Ausgabe des Programmes sein könnte."
   ]
  },
  {
   "cell_type": "code",
   "execution_count": null,
   "metadata": {
    "deletable": false,
    "slideshow": {
     "slide_type": "slide"
    }
   },
   "outputs": [],
   "source": [
    "r = 5\n",
    "pi = 3.14159\n",
    "area = pi*r*r\n",
    "print(area)"
   ]
  },
  {
   "cell_type": "markdown",
   "metadata": {},
   "source": [
    "Probieren Sie nun in der nächsten Code-Zelle ihr erstes kleines Programm zu schreiben. Das Programm soll den Umfang eines Kreises mit Radius 7 ausgeben."
   ]
  },
  {
   "cell_type": "code",
   "execution_count": null,
   "metadata": {},
   "outputs": [],
   "source": [
    "r = 7\n",
    "pi = 3.14159\n",
    "perimeter = 2 * pi * r\n",
    "print(perimeter)"
   ]
  }
 ],
 "metadata": {
  "kernelspec": {
   "display_name": "Python 3 (ipykernel)",
   "language": "python",
   "name": "python3"
  },
  "language_info": {
   "codemirror_mode": {
    "name": "ipython",
    "version": 3
   },
   "file_extension": ".py",
   "mimetype": "text/x-python",
   "name": "python",
   "nbconvert_exporter": "python",
   "pygments_lexer": "ipython3",
   "version": "3.9.6"
  },
  "toc": {
   "base_numbering": 1,
   "nav_menu": {},
   "number_sections": false,
   "sideBar": false,
   "skip_h1_title": false,
   "title_cell": "Table of Contents",
   "title_sidebar": "Contents",
   "toc_cell": false,
   "toc_position": {},
   "toc_section_display": false,
   "toc_window_display": false
  }
 },
 "nbformat": 4,
 "nbformat_minor": 4
}
