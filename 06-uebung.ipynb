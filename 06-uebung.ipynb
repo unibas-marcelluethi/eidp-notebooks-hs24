{
 "cells": [
  {
   "cell_type": "markdown",
   "metadata": {},
   "source": [
    "# Übungsblatt Woche 6: Listen und Tupel"
   ]
  },
  {
   "cell_type": "markdown",
   "metadata": {
    "deletable": false
   },
   "source": [
    "*Schreiben Sie in dieses Feld Ihren Vornamen, Namen und Matrikelnummer.*"
   ]
  },
  {
   "cell_type": "markdown",
   "metadata": {},
   "source": [
    "### Wichtige Hinweise\n",
    "\n",
    "* Wegen einer Limitierung des Korrekturtools dürfen Sie nur positive Indizes verwenden um auf Listenelemente zuzugreifen. \n",
    "* Verändern Sie bitte keine der vorgegebenen Methodennamen.\n",
    "* Das Schlüsselwort ```pass```, welches Sie in den Übungen finden, ist eine Python-Anweisung die nichts macht. Wir nutzen diese als Platzhalter, damit sich Python nicht über eine fehlende Implementation der Funktion beschwert. Ersetzen Sie die ```pass``` Anweisung einfach durch Ihre Implementation der Methode. \n",
    "* Sie dürfen keine externen Bibliotheken verwenden"
   ]
  },
  {
   "cell_type": "markdown",
   "metadata": {
    "deletable": false
   },
   "source": [
    "#### Aufgabe 1: Erzeugen einer Liste (2 Punkte)\n",
    "\n",
    "Implementieren Sie eine Funktion ```multiples_of_n``` welche zwei Argumente entgegennimmt. Die Funktion soll eine Liste aller Vielfachen einer Zahl berechnen, welche kleiner oder gleich gross wie eine Obergrenze sind.\n",
    "Das erste Argument ist eine Zahl ```n``` von welcher die Vielfachen berechnet werden sollen. Das zweite Argument ist eine Zahl ```hi``` welche die Obergrenze angibt. Die erste Zahl ist die Zahl `n` selbst.\n",
    "\n",
    "Als Beispiel sollte der Aufruf `multiples_of_n(3, 10)` die Liste `[3,6,9]` erzeugen. \n"
   ]
  },
  {
   "cell_type": "code",
   "execution_count": null,
   "metadata": {
    "deletable": false,
    "exercise_id": 1
   },
   "outputs": [],
   "source": [
    "def multiples_of_n(n, hi):\n",
    "    pass # Ersetzen Sie diese Zeile mit Ihrer Implementation\n",
    "\n",
    "# Der folgende Aufruf sollte die Liste [2, 4, 6, 8, 10] zurückgeben\n",
    "multiples_of_n(2, 10)"
   ]
  },
  {
   "cell_type": "markdown",
   "metadata": {},
   "source": [
    "#### Aufgabe 2: Produkt aller Listenelemente (2 Punkte)\n",
    "\n",
    "Implementieren Sie eine Funktion ```product``` welche eine Liste ```numbers``` von Ganzzahlen als Argument entgegennimmt, und das Produkt aller Listenelemente zurückgibt. \n",
    "\n",
    "*Verwenden Sie für die Lösung entweder eine for- oder eine while-Schleife. Allenfalls bekannte Python-Funktionen, die dasselbe in einer Zeile erledigen, sollen nicht verwendet werden.*"
   ]
  },
  {
   "cell_type": "code",
   "execution_count": null,
   "metadata": {
    "deletable": false,
    "exercise_id": 2
   },
   "outputs": [],
   "source": [
    "def product(numbers):\n",
    "    pass # Ersetzen Sie diese Zeile mit Ihrer Implementation\n",
    "\n",
    "# Der folgende Aufruf sollte 120 zurückgeben\n",
    "product([1, 2, 3, 4, 5])"
   ]
  },
  {
   "cell_type": "markdown",
   "metadata": {},
   "source": [
    "#### Aufgabe 3: Elemente umkehren (2 Punkte)\n",
    "\n",
    "Implementieren Sie die Funktion ```reverse``` welche eine Liste ```l``` von Ganzzahlen als Argument entgegennimmt und eine neue Liste erzeugt und zurückgibt, deren Elemente in genau der umgekehrten Reihenfolge von ```l``` gespeichert sind. \n",
    "\n",
    "*Verwenden Sie für die Lösung entweder eine for- oder eine while-Schleife. Allenfalls bekannte Python-Funktionen, die dasselbe in einer Zeile erledigen, sollen nicht verwendet werden.*"
   ]
  },
  {
   "cell_type": "code",
   "execution_count": null,
   "metadata": {
    "deletable": false,
    "exercise_id": 3
   },
   "outputs": [],
   "source": [
    "def reverse(l):\n",
    "    pass # Ersetzen Sie diese Zeile mit Ihrer Implementation\n",
    "\n",
    "# Der folgende Aufruf sollte [2, 3, 1] zurückgeben\n",
    "reverse([1, 3, 2])"
   ]
  },
  {
   "cell_type": "markdown",
   "metadata": {},
   "source": [
    "#### Aufgabe 4: Flatten (2 Punkte)\n",
    "\n",
    "Schreiben Sie eine Funktion ```flatten``` welche eine Liste von Listen als Argument entgegennimmt, und eine \"flache\" Liste mit allen Elementen zurückgibt. Als Beispiel soll aus der Liste ```[[1,2,3], [4,5,6]]``` die Liste ```[1,2,3,4,5,6]``` erzeugt werden. \n",
    "\n",
    "*Verwenden Sie für die Lösung entweder eine for- oder eine while-Schleife. Allenfalls bekannte Python-Funktionen, die dasselbe in einer Zeile erledigen, sollen nicht verwendet werden.*"
   ]
  },
  {
   "cell_type": "code",
   "execution_count": null,
   "metadata": {
    "deletable": false,
    "exercise_id": 4
   },
   "outputs": [],
   "source": [
    "def flatten(l):\n",
    "    pass # Ersetzen Sie diese Zeile mit Ihrer Implementation\n",
    "\n",
    "# Der folgende Aufruf sollte [1,2,3,4,5,6] zurückgeben\n",
    "flatten([[1,2,3],[4,5,6]])"
   ]
  },
  {
   "cell_type": "markdown",
   "metadata": {},
   "source": [
    "#### Aufgabe 5: Zip (2 Punkte)\n",
    "\n",
    "Implementieren Sie eine Funktion ```zip```. Diese soll zwei Listen ```l1``` und ```l2``` gleicher Länge als Argumente entgegennehmen, und eine Liste von Tupeln erzeugt. Dabei sollen die beiden $i$-ten Elemente der Listen jeweils zu einem Tupel zusammengefügt werden und a der $i$-ten Stelle in der neuen Liste gespeichert werden. \n",
    "\n",
    "*Verwenden Sie für die Lösung entweder eine for- oder eine while-Schleife. Allenfalls bekannte Python-Funktionen, die dasselbe in einer Zeile erledigen, sollen nicht verwendet werden.*"
   ]
  },
  {
   "cell_type": "code",
   "execution_count": null,
   "metadata": {
    "deletable": false,
    "exercise_id": 5
   },
   "outputs": [],
   "source": [
    "def zip(l1, l2):\n",
    "    pass # Ersetzen Sie diese Zeile mit Ihrer Implementation\n",
    "\n",
    "# Der folgende Aufruf sollte die Liste [(1, 4), (2, 5), (3, 6)] zurückgeben.\n",
    "zip([1, 2, 3], [4, 5, 6])"
   ]
  },
  {
   "cell_type": "code",
   "execution_count": null,
   "metadata": {},
   "outputs": [],
   "source": []
  }
 ],
 "metadata": {
  "celltoolbar": "Edit Metadata",
  "exercise_series": "eidp",
  "kernelspec": {
   "display_name": "Python [conda env:python_eidp_env]",
   "language": "python",
   "name": "conda-env-python_eidp_env-py"
  },
  "language_info": {
   "codemirror_mode": {
    "name": "ipython",
    "version": 3
   },
   "file_extension": ".py",
   "mimetype": "text/x-python",
   "name": "python",
   "nbconvert_exporter": "python",
   "pygments_lexer": "ipython3",
   "version": "3.9.16"
  },
  "notebook_id": 5,
  "toc": {
   "base_numbering": 1,
   "nav_menu": {},
   "number_sections": false,
   "sideBar": false,
   "skip_h1_title": false,
   "title_cell": "Table of Contents",
   "title_sidebar": "Contents",
   "toc_cell": false,
   "toc_position": {},
   "toc_section_display": false,
   "toc_window_display": false
  }
 },
 "nbformat": 4,
 "nbformat_minor": 4
}
